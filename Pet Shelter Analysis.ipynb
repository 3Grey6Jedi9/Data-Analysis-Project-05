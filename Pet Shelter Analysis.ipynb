{
 "cells": [
  {
   "cell_type": "code",
   "execution_count": 253,
   "metadata": {
    "collapsed": true,
    "pycharm": {
     "name": "#%%\n"
    }
   },
   "outputs": [],
   "source": [
    "import pandas as pd\n",
    "import numpy as np\n",
    "import datetime\n",
    "import matplotlib.pyplot as plt\n",
    "intake = pd.read_csv('aac_intakes.csv')\n",
    "intakes_outcomes = pd.read_csv('aac_intakes_outcomes.csv')\n",
    "outcomes = pd.read_csv('aac_outcomes.csv')"
   ]
  },
  {
   "cell_type": "markdown",
   "source": [
    "1) Is there an area where more pets are found?"
   ],
   "metadata": {
    "collapsed": false,
    "pycharm": {
     "name": "#%% md\n"
    }
   }
  },
  {
   "cell_type": "code",
   "execution_count": 254,
   "outputs": [
    {
     "data": {
      "text/plain": "  age_upon_outcome animal_id_outcome        date_of_birth outcome_subtype  \\\n0         10 years           A006100  2007-07-09 00:00:00             NaN   \n1          7 years           A006100  2007-07-09 00:00:00             NaN   \n2          6 years           A006100  2007-07-09 00:00:00             NaN   \n3         10 years           A047759  2004-04-02 00:00:00         Partner   \n4         16 years           A134067  1997-10-16 00:00:00             NaN   \n\n      outcome_type sex_upon_outcome  age_upon_outcome_(days)  \\\n0  Return to Owner    Neutered Male                     3650   \n1  Return to Owner    Neutered Male                     2555   \n2  Return to Owner    Neutered Male                     2190   \n3         Transfer    Neutered Male                     3650   \n4  Return to Owner    Neutered Male                     5840   \n\n   age_upon_outcome_(years) age_upon_outcome_age_group     outcome_datetime  \\\n0                      10.0                (7.5, 10.0]  2017-12-07 14:07:00   \n1                       7.0                 (5.0, 7.5]  2014-12-20 16:35:00   \n2                       6.0                 (5.0, 7.5]  2014-03-08 17:10:00   \n3                      10.0                (7.5, 10.0]  2014-04-07 15:12:00   \n4                      16.0               (15.0, 17.5]  2013-11-16 11:54:00   \n\n   ...  age_upon_intake_age_group      intake_datetime intake_month  \\\n0  ...                (7.5, 10.0]  2017-12-07 00:00:00           12   \n1  ...                 (5.0, 7.5]  2014-12-19 10:21:00           12   \n2  ...                 (5.0, 7.5]  2014-03-07 14:26:00            3   \n3  ...                (7.5, 10.0]  2014-04-02 15:55:00            4   \n4  ...               (15.0, 17.5]  2013-11-16 09:02:00           11   \n\n  intake_year  intake_monthyear  intake_weekday  intake_hour  intake_number  \\\n0        2017           2017-12        Thursday           14            1.0   \n1        2014           2014-12          Friday           10            2.0   \n2        2014           2014-03          Friday           14            3.0   \n3        2014           2014-04       Wednesday           15            1.0   \n4        2013           2013-11        Saturday            9            1.0   \n\n             time_in_shelter time_in_shelter_days  \n0  0 days 14:07:00.000000000             0.588194  \n1  1 days 06:14:00.000000000             1.259722  \n2  1 days 02:44:00.000000000             1.113889  \n3  4 days 23:17:00.000000000             4.970139  \n4  0 days 02:52:00.000000000             0.119444  \n\n[5 rows x 41 columns]",
      "text/html": "<div>\n<style scoped>\n    .dataframe tbody tr th:only-of-type {\n        vertical-align: middle;\n    }\n\n    .dataframe tbody tr th {\n        vertical-align: top;\n    }\n\n    .dataframe thead th {\n        text-align: right;\n    }\n</style>\n<table border=\"1\" class=\"dataframe\">\n  <thead>\n    <tr style=\"text-align: right;\">\n      <th></th>\n      <th>age_upon_outcome</th>\n      <th>animal_id_outcome</th>\n      <th>date_of_birth</th>\n      <th>outcome_subtype</th>\n      <th>outcome_type</th>\n      <th>sex_upon_outcome</th>\n      <th>age_upon_outcome_(days)</th>\n      <th>age_upon_outcome_(years)</th>\n      <th>age_upon_outcome_age_group</th>\n      <th>outcome_datetime</th>\n      <th>...</th>\n      <th>age_upon_intake_age_group</th>\n      <th>intake_datetime</th>\n      <th>intake_month</th>\n      <th>intake_year</th>\n      <th>intake_monthyear</th>\n      <th>intake_weekday</th>\n      <th>intake_hour</th>\n      <th>intake_number</th>\n      <th>time_in_shelter</th>\n      <th>time_in_shelter_days</th>\n    </tr>\n  </thead>\n  <tbody>\n    <tr>\n      <th>0</th>\n      <td>10 years</td>\n      <td>A006100</td>\n      <td>2007-07-09 00:00:00</td>\n      <td>NaN</td>\n      <td>Return to Owner</td>\n      <td>Neutered Male</td>\n      <td>3650</td>\n      <td>10.0</td>\n      <td>(7.5, 10.0]</td>\n      <td>2017-12-07 14:07:00</td>\n      <td>...</td>\n      <td>(7.5, 10.0]</td>\n      <td>2017-12-07 00:00:00</td>\n      <td>12</td>\n      <td>2017</td>\n      <td>2017-12</td>\n      <td>Thursday</td>\n      <td>14</td>\n      <td>1.0</td>\n      <td>0 days 14:07:00.000000000</td>\n      <td>0.588194</td>\n    </tr>\n    <tr>\n      <th>1</th>\n      <td>7 years</td>\n      <td>A006100</td>\n      <td>2007-07-09 00:00:00</td>\n      <td>NaN</td>\n      <td>Return to Owner</td>\n      <td>Neutered Male</td>\n      <td>2555</td>\n      <td>7.0</td>\n      <td>(5.0, 7.5]</td>\n      <td>2014-12-20 16:35:00</td>\n      <td>...</td>\n      <td>(5.0, 7.5]</td>\n      <td>2014-12-19 10:21:00</td>\n      <td>12</td>\n      <td>2014</td>\n      <td>2014-12</td>\n      <td>Friday</td>\n      <td>10</td>\n      <td>2.0</td>\n      <td>1 days 06:14:00.000000000</td>\n      <td>1.259722</td>\n    </tr>\n    <tr>\n      <th>2</th>\n      <td>6 years</td>\n      <td>A006100</td>\n      <td>2007-07-09 00:00:00</td>\n      <td>NaN</td>\n      <td>Return to Owner</td>\n      <td>Neutered Male</td>\n      <td>2190</td>\n      <td>6.0</td>\n      <td>(5.0, 7.5]</td>\n      <td>2014-03-08 17:10:00</td>\n      <td>...</td>\n      <td>(5.0, 7.5]</td>\n      <td>2014-03-07 14:26:00</td>\n      <td>3</td>\n      <td>2014</td>\n      <td>2014-03</td>\n      <td>Friday</td>\n      <td>14</td>\n      <td>3.0</td>\n      <td>1 days 02:44:00.000000000</td>\n      <td>1.113889</td>\n    </tr>\n    <tr>\n      <th>3</th>\n      <td>10 years</td>\n      <td>A047759</td>\n      <td>2004-04-02 00:00:00</td>\n      <td>Partner</td>\n      <td>Transfer</td>\n      <td>Neutered Male</td>\n      <td>3650</td>\n      <td>10.0</td>\n      <td>(7.5, 10.0]</td>\n      <td>2014-04-07 15:12:00</td>\n      <td>...</td>\n      <td>(7.5, 10.0]</td>\n      <td>2014-04-02 15:55:00</td>\n      <td>4</td>\n      <td>2014</td>\n      <td>2014-04</td>\n      <td>Wednesday</td>\n      <td>15</td>\n      <td>1.0</td>\n      <td>4 days 23:17:00.000000000</td>\n      <td>4.970139</td>\n    </tr>\n    <tr>\n      <th>4</th>\n      <td>16 years</td>\n      <td>A134067</td>\n      <td>1997-10-16 00:00:00</td>\n      <td>NaN</td>\n      <td>Return to Owner</td>\n      <td>Neutered Male</td>\n      <td>5840</td>\n      <td>16.0</td>\n      <td>(15.0, 17.5]</td>\n      <td>2013-11-16 11:54:00</td>\n      <td>...</td>\n      <td>(15.0, 17.5]</td>\n      <td>2013-11-16 09:02:00</td>\n      <td>11</td>\n      <td>2013</td>\n      <td>2013-11</td>\n      <td>Saturday</td>\n      <td>9</td>\n      <td>1.0</td>\n      <td>0 days 02:52:00.000000000</td>\n      <td>0.119444</td>\n    </tr>\n  </tbody>\n</table>\n<p>5 rows × 41 columns</p>\n</div>"
     },
     "execution_count": 254,
     "metadata": {},
     "output_type": "execute_result"
    }
   ],
   "source": [
    "intakes_outcomes.head()"
   ],
   "metadata": {
    "collapsed": false,
    "pycharm": {
     "name": "#%%\n"
    }
   }
  },
  {
   "cell_type": "code",
   "execution_count": 255,
   "outputs": [
    {
     "data": {
      "text/plain": "  age_upon_intake animal_id animal_type  \\\n0         8 years   A706918         Dog   \n1       11 months   A724273         Dog   \n2         4 weeks   A665644         Cat   \n3         4 years   A682524         Dog   \n4         2 years   A743852         Dog   \n\n                                   breed        color  \\\n0               English Springer Spaniel  White/Liver   \n1                            Basenji Mix  Sable/White   \n2                 Domestic Shorthair Mix       Calico   \n3  Doberman Pinsch/Australian Cattle Dog     Tan/Gray   \n4                 Labrador Retriever Mix    Chocolate   \n\n                  datetime                datetime2  \\\n0  2015-07-05T12:59:00.000  2015-07-05T12:59:00.000   \n1  2016-04-14T18:43:00.000  2016-04-14T18:43:00.000   \n2  2013-10-21T07:59:00.000  2013-10-21T07:59:00.000   \n3  2014-06-29T10:38:00.000  2014-06-29T10:38:00.000   \n4  2017-02-18T12:46:00.000  2017-02-18T12:46:00.000   \n\n                       found_location intake_condition      intake_type  \\\n0    9409 Bluegrass Dr in Austin (TX)           Normal            Stray   \n1  2818 Palomino Trail in Austin (TX)           Normal            Stray   \n2                         Austin (TX)             Sick            Stray   \n3       800 Grove Blvd in Austin (TX)           Normal            Stray   \n4                         Austin (TX)           Normal  Owner Surrender   \n\n      name sex_upon_intake  \n0    Belle   Spayed Female  \n1  Runster     Intact Male  \n2      NaN   Intact Female  \n3      Rio   Neutered Male  \n4     Odin   Neutered Male  ",
      "text/html": "<div>\n<style scoped>\n    .dataframe tbody tr th:only-of-type {\n        vertical-align: middle;\n    }\n\n    .dataframe tbody tr th {\n        vertical-align: top;\n    }\n\n    .dataframe thead th {\n        text-align: right;\n    }\n</style>\n<table border=\"1\" class=\"dataframe\">\n  <thead>\n    <tr style=\"text-align: right;\">\n      <th></th>\n      <th>age_upon_intake</th>\n      <th>animal_id</th>\n      <th>animal_type</th>\n      <th>breed</th>\n      <th>color</th>\n      <th>datetime</th>\n      <th>datetime2</th>\n      <th>found_location</th>\n      <th>intake_condition</th>\n      <th>intake_type</th>\n      <th>name</th>\n      <th>sex_upon_intake</th>\n    </tr>\n  </thead>\n  <tbody>\n    <tr>\n      <th>0</th>\n      <td>8 years</td>\n      <td>A706918</td>\n      <td>Dog</td>\n      <td>English Springer Spaniel</td>\n      <td>White/Liver</td>\n      <td>2015-07-05T12:59:00.000</td>\n      <td>2015-07-05T12:59:00.000</td>\n      <td>9409 Bluegrass Dr in Austin (TX)</td>\n      <td>Normal</td>\n      <td>Stray</td>\n      <td>Belle</td>\n      <td>Spayed Female</td>\n    </tr>\n    <tr>\n      <th>1</th>\n      <td>11 months</td>\n      <td>A724273</td>\n      <td>Dog</td>\n      <td>Basenji Mix</td>\n      <td>Sable/White</td>\n      <td>2016-04-14T18:43:00.000</td>\n      <td>2016-04-14T18:43:00.000</td>\n      <td>2818 Palomino Trail in Austin (TX)</td>\n      <td>Normal</td>\n      <td>Stray</td>\n      <td>Runster</td>\n      <td>Intact Male</td>\n    </tr>\n    <tr>\n      <th>2</th>\n      <td>4 weeks</td>\n      <td>A665644</td>\n      <td>Cat</td>\n      <td>Domestic Shorthair Mix</td>\n      <td>Calico</td>\n      <td>2013-10-21T07:59:00.000</td>\n      <td>2013-10-21T07:59:00.000</td>\n      <td>Austin (TX)</td>\n      <td>Sick</td>\n      <td>Stray</td>\n      <td>NaN</td>\n      <td>Intact Female</td>\n    </tr>\n    <tr>\n      <th>3</th>\n      <td>4 years</td>\n      <td>A682524</td>\n      <td>Dog</td>\n      <td>Doberman Pinsch/Australian Cattle Dog</td>\n      <td>Tan/Gray</td>\n      <td>2014-06-29T10:38:00.000</td>\n      <td>2014-06-29T10:38:00.000</td>\n      <td>800 Grove Blvd in Austin (TX)</td>\n      <td>Normal</td>\n      <td>Stray</td>\n      <td>Rio</td>\n      <td>Neutered Male</td>\n    </tr>\n    <tr>\n      <th>4</th>\n      <td>2 years</td>\n      <td>A743852</td>\n      <td>Dog</td>\n      <td>Labrador Retriever Mix</td>\n      <td>Chocolate</td>\n      <td>2017-02-18T12:46:00.000</td>\n      <td>2017-02-18T12:46:00.000</td>\n      <td>Austin (TX)</td>\n      <td>Normal</td>\n      <td>Owner Surrender</td>\n      <td>Odin</td>\n      <td>Neutered Male</td>\n    </tr>\n  </tbody>\n</table>\n</div>"
     },
     "execution_count": 255,
     "metadata": {},
     "output_type": "execute_result"
    }
   ],
   "source": [
    "intake.head()"
   ],
   "metadata": {
    "collapsed": false,
    "pycharm": {
     "name": "#%%\n"
    }
   }
  },
  {
   "cell_type": "code",
   "execution_count": 256,
   "outputs": [
    {
     "data": {
      "text/plain": "       age_upon_intake_x animal_id animal_type_x  \\\n0                8 years   A706918           Dog   \n1              11 months   A724273           Dog   \n2                4 weeks   A665644           Cat   \n3                4 years   A682524           Dog   \n4                2 years   A743852           Dog   \n...                  ...       ...           ...   \n100125          5 months   A763562           Dog   \n100126            1 year   A769065         Other   \n100127          10 years   A769067           Dog   \n100128           5 years   A768934           Dog   \n100129           2 years   A769064         Other   \n\n                                       breed_x          color_x  \\\n0                     English Springer Spaniel      White/Liver   \n1                                  Basenji Mix      Sable/White   \n2                       Domestic Shorthair Mix           Calico   \n3        Doberman Pinsch/Australian Cattle Dog         Tan/Gray   \n4                       Labrador Retriever Mix        Chocolate   \n...                                        ...              ...   \n100125                 Chihuahua Shorthair Mix            Cream   \n100126                                 Bat Mix            Brown   \n100127                               Boxer Mix    Brown Brindle   \n100128  Dachshund Wirehair/Chihuahua Shorthair  Chocolate/White   \n100129                                 Bat Mix            Brown   \n\n                       datetime                datetime2  \\\n0       2015-07-05T12:59:00.000  2015-07-05T12:59:00.000   \n1       2016-04-14T18:43:00.000  2016-04-14T18:43:00.000   \n2       2013-10-21T07:59:00.000  2013-10-21T07:59:00.000   \n3       2014-06-29T10:38:00.000  2014-06-29T10:38:00.000   \n4       2017-02-18T12:46:00.000  2017-02-18T12:46:00.000   \n...                         ...                      ...   \n100125  2018-03-17T14:59:00.000  2018-03-17T14:59:00.000   \n100126  2018-03-29T17:19:00.000  2018-03-29T17:19:00.000   \n100127  2018-03-29T18:20:00.000  2018-03-29T18:20:00.000   \n100128  2018-03-27T14:27:00.000  2018-03-27T14:27:00.000   \n100129  2018-03-29T17:13:00.000  2018-03-29T17:13:00.000   \n\n                              found_location_x intake_condition_x  \\\n0             9409 Bluegrass Dr in Austin (TX)             Normal   \n1           2818 Palomino Trail in Austin (TX)             Normal   \n2                                  Austin (TX)               Sick   \n3                800 Grove Blvd in Austin (TX)             Normal   \n4                                  Austin (TX)             Normal   \n...                                        ...                ...   \n100125                             Austin (TX)             Normal   \n100126           1122 Walton Ln in Austin (TX)             Normal   \n100127  11216 Jollyville Rd 216 in Austin (TX)               Aged   \n100128  603 West Johanna Street in Austin (TX)             Normal   \n100129       2519 Scarbrough Dr in Travis (TX)             Normal   \n\n          intake_type_x  ... age_upon_intake_age_group      intake_datetime  \\\n0                 Stray  ...               (7.5, 10.0]  2015-07-05 12:59:00   \n1                 Stray  ...             (-0.025, 2.5]  2016-04-14 18:43:00   \n2                 Stray  ...             (-0.025, 2.5]  2013-10-21 07:59:00   \n3                 Stray  ...                (2.5, 5.0]  2014-06-29 10:38:00   \n4       Owner Surrender  ...             (-0.025, 2.5]  2017-02-18 12:46:00   \n...                 ...  ...                       ...                  ...   \n100125  Owner Surrender  ...             (-0.025, 2.5]  2017-12-11 11:04:00   \n100126         Wildlife  ...             (-0.025, 2.5]  2018-03-29 17:19:00   \n100127            Stray  ...               (7.5, 10.0]  2018-03-29 18:20:00   \n100128            Stray  ...                (2.5, 5.0]  2018-03-27 14:27:00   \n100129         Wildlife  ...             (-0.025, 2.5]  2018-03-29 17:13:00   \n\n       intake_month intake_year intake_monthyear intake_weekday intake_hour  \\\n0                 7        2015          2015-07         Sunday          12   \n1                 4        2016          2016-04       Thursday          18   \n2                10        2013          2013-10         Monday           7   \n3                 6        2014          2014-06         Sunday          10   \n4                 2        2017          2017-02       Saturday          12   \n...             ...         ...              ...            ...         ...   \n100125           12        2017          2017-12         Monday          11   \n100126            3        2018          2018-03       Thursday          17   \n100127            3        2018          2018-03       Thursday          18   \n100128            3        2018          2018-03        Tuesday          14   \n100129            3        2018          2018-03       Thursday          17   \n\n       intake_number            time_in_shelter  time_in_shelter_days  \n0                1.0  0 days 02:14:00.000000000              0.093056  \n1                1.0  6 days 22:34:00.000000000              6.940278  \n2                1.0  0 days 03:40:00.000000000              0.152778  \n3                1.0  3 days 03:38:00.000000000              3.151389  \n4                1.0  3 days 04:58:00.000000000              3.206944  \n...              ...                        ...                   ...  \n100125           2.0  3 days 05:31:00.000000000              3.229861  \n100126           1.0  0 days 01:09:00.000000000              0.047917  \n100127           1.0  0 days 19:32:00.000000000              0.813889  \n100128           1.0  5 days 22:34:00.000000000              5.940278  \n100129           1.0  0 days 01:17:00.000000000              0.053472  \n\n[100130 rows x 53 columns]",
      "text/html": "<div>\n<style scoped>\n    .dataframe tbody tr th:only-of-type {\n        vertical-align: middle;\n    }\n\n    .dataframe tbody tr th {\n        vertical-align: top;\n    }\n\n    .dataframe thead th {\n        text-align: right;\n    }\n</style>\n<table border=\"1\" class=\"dataframe\">\n  <thead>\n    <tr style=\"text-align: right;\">\n      <th></th>\n      <th>age_upon_intake_x</th>\n      <th>animal_id</th>\n      <th>animal_type_x</th>\n      <th>breed_x</th>\n      <th>color_x</th>\n      <th>datetime</th>\n      <th>datetime2</th>\n      <th>found_location_x</th>\n      <th>intake_condition_x</th>\n      <th>intake_type_x</th>\n      <th>...</th>\n      <th>age_upon_intake_age_group</th>\n      <th>intake_datetime</th>\n      <th>intake_month</th>\n      <th>intake_year</th>\n      <th>intake_monthyear</th>\n      <th>intake_weekday</th>\n      <th>intake_hour</th>\n      <th>intake_number</th>\n      <th>time_in_shelter</th>\n      <th>time_in_shelter_days</th>\n    </tr>\n  </thead>\n  <tbody>\n    <tr>\n      <th>0</th>\n      <td>8 years</td>\n      <td>A706918</td>\n      <td>Dog</td>\n      <td>English Springer Spaniel</td>\n      <td>White/Liver</td>\n      <td>2015-07-05T12:59:00.000</td>\n      <td>2015-07-05T12:59:00.000</td>\n      <td>9409 Bluegrass Dr in Austin (TX)</td>\n      <td>Normal</td>\n      <td>Stray</td>\n      <td>...</td>\n      <td>(7.5, 10.0]</td>\n      <td>2015-07-05 12:59:00</td>\n      <td>7</td>\n      <td>2015</td>\n      <td>2015-07</td>\n      <td>Sunday</td>\n      <td>12</td>\n      <td>1.0</td>\n      <td>0 days 02:14:00.000000000</td>\n      <td>0.093056</td>\n    </tr>\n    <tr>\n      <th>1</th>\n      <td>11 months</td>\n      <td>A724273</td>\n      <td>Dog</td>\n      <td>Basenji Mix</td>\n      <td>Sable/White</td>\n      <td>2016-04-14T18:43:00.000</td>\n      <td>2016-04-14T18:43:00.000</td>\n      <td>2818 Palomino Trail in Austin (TX)</td>\n      <td>Normal</td>\n      <td>Stray</td>\n      <td>...</td>\n      <td>(-0.025, 2.5]</td>\n      <td>2016-04-14 18:43:00</td>\n      <td>4</td>\n      <td>2016</td>\n      <td>2016-04</td>\n      <td>Thursday</td>\n      <td>18</td>\n      <td>1.0</td>\n      <td>6 days 22:34:00.000000000</td>\n      <td>6.940278</td>\n    </tr>\n    <tr>\n      <th>2</th>\n      <td>4 weeks</td>\n      <td>A665644</td>\n      <td>Cat</td>\n      <td>Domestic Shorthair Mix</td>\n      <td>Calico</td>\n      <td>2013-10-21T07:59:00.000</td>\n      <td>2013-10-21T07:59:00.000</td>\n      <td>Austin (TX)</td>\n      <td>Sick</td>\n      <td>Stray</td>\n      <td>...</td>\n      <td>(-0.025, 2.5]</td>\n      <td>2013-10-21 07:59:00</td>\n      <td>10</td>\n      <td>2013</td>\n      <td>2013-10</td>\n      <td>Monday</td>\n      <td>7</td>\n      <td>1.0</td>\n      <td>0 days 03:40:00.000000000</td>\n      <td>0.152778</td>\n    </tr>\n    <tr>\n      <th>3</th>\n      <td>4 years</td>\n      <td>A682524</td>\n      <td>Dog</td>\n      <td>Doberman Pinsch/Australian Cattle Dog</td>\n      <td>Tan/Gray</td>\n      <td>2014-06-29T10:38:00.000</td>\n      <td>2014-06-29T10:38:00.000</td>\n      <td>800 Grove Blvd in Austin (TX)</td>\n      <td>Normal</td>\n      <td>Stray</td>\n      <td>...</td>\n      <td>(2.5, 5.0]</td>\n      <td>2014-06-29 10:38:00</td>\n      <td>6</td>\n      <td>2014</td>\n      <td>2014-06</td>\n      <td>Sunday</td>\n      <td>10</td>\n      <td>1.0</td>\n      <td>3 days 03:38:00.000000000</td>\n      <td>3.151389</td>\n    </tr>\n    <tr>\n      <th>4</th>\n      <td>2 years</td>\n      <td>A743852</td>\n      <td>Dog</td>\n      <td>Labrador Retriever Mix</td>\n      <td>Chocolate</td>\n      <td>2017-02-18T12:46:00.000</td>\n      <td>2017-02-18T12:46:00.000</td>\n      <td>Austin (TX)</td>\n      <td>Normal</td>\n      <td>Owner Surrender</td>\n      <td>...</td>\n      <td>(-0.025, 2.5]</td>\n      <td>2017-02-18 12:46:00</td>\n      <td>2</td>\n      <td>2017</td>\n      <td>2017-02</td>\n      <td>Saturday</td>\n      <td>12</td>\n      <td>1.0</td>\n      <td>3 days 04:58:00.000000000</td>\n      <td>3.206944</td>\n    </tr>\n    <tr>\n      <th>...</th>\n      <td>...</td>\n      <td>...</td>\n      <td>...</td>\n      <td>...</td>\n      <td>...</td>\n      <td>...</td>\n      <td>...</td>\n      <td>...</td>\n      <td>...</td>\n      <td>...</td>\n      <td>...</td>\n      <td>...</td>\n      <td>...</td>\n      <td>...</td>\n      <td>...</td>\n      <td>...</td>\n      <td>...</td>\n      <td>...</td>\n      <td>...</td>\n      <td>...</td>\n      <td>...</td>\n    </tr>\n    <tr>\n      <th>100125</th>\n      <td>5 months</td>\n      <td>A763562</td>\n      <td>Dog</td>\n      <td>Chihuahua Shorthair Mix</td>\n      <td>Cream</td>\n      <td>2018-03-17T14:59:00.000</td>\n      <td>2018-03-17T14:59:00.000</td>\n      <td>Austin (TX)</td>\n      <td>Normal</td>\n      <td>Owner Surrender</td>\n      <td>...</td>\n      <td>(-0.025, 2.5]</td>\n      <td>2017-12-11 11:04:00</td>\n      <td>12</td>\n      <td>2017</td>\n      <td>2017-12</td>\n      <td>Monday</td>\n      <td>11</td>\n      <td>2.0</td>\n      <td>3 days 05:31:00.000000000</td>\n      <td>3.229861</td>\n    </tr>\n    <tr>\n      <th>100126</th>\n      <td>1 year</td>\n      <td>A769065</td>\n      <td>Other</td>\n      <td>Bat Mix</td>\n      <td>Brown</td>\n      <td>2018-03-29T17:19:00.000</td>\n      <td>2018-03-29T17:19:00.000</td>\n      <td>1122 Walton Ln in Austin (TX)</td>\n      <td>Normal</td>\n      <td>Wildlife</td>\n      <td>...</td>\n      <td>(-0.025, 2.5]</td>\n      <td>2018-03-29 17:19:00</td>\n      <td>3</td>\n      <td>2018</td>\n      <td>2018-03</td>\n      <td>Thursday</td>\n      <td>17</td>\n      <td>1.0</td>\n      <td>0 days 01:09:00.000000000</td>\n      <td>0.047917</td>\n    </tr>\n    <tr>\n      <th>100127</th>\n      <td>10 years</td>\n      <td>A769067</td>\n      <td>Dog</td>\n      <td>Boxer Mix</td>\n      <td>Brown Brindle</td>\n      <td>2018-03-29T18:20:00.000</td>\n      <td>2018-03-29T18:20:00.000</td>\n      <td>11216 Jollyville Rd 216 in Austin (TX)</td>\n      <td>Aged</td>\n      <td>Stray</td>\n      <td>...</td>\n      <td>(7.5, 10.0]</td>\n      <td>2018-03-29 18:20:00</td>\n      <td>3</td>\n      <td>2018</td>\n      <td>2018-03</td>\n      <td>Thursday</td>\n      <td>18</td>\n      <td>1.0</td>\n      <td>0 days 19:32:00.000000000</td>\n      <td>0.813889</td>\n    </tr>\n    <tr>\n      <th>100128</th>\n      <td>5 years</td>\n      <td>A768934</td>\n      <td>Dog</td>\n      <td>Dachshund Wirehair/Chihuahua Shorthair</td>\n      <td>Chocolate/White</td>\n      <td>2018-03-27T14:27:00.000</td>\n      <td>2018-03-27T14:27:00.000</td>\n      <td>603 West Johanna Street in Austin (TX)</td>\n      <td>Normal</td>\n      <td>Stray</td>\n      <td>...</td>\n      <td>(2.5, 5.0]</td>\n      <td>2018-03-27 14:27:00</td>\n      <td>3</td>\n      <td>2018</td>\n      <td>2018-03</td>\n      <td>Tuesday</td>\n      <td>14</td>\n      <td>1.0</td>\n      <td>5 days 22:34:00.000000000</td>\n      <td>5.940278</td>\n    </tr>\n    <tr>\n      <th>100129</th>\n      <td>2 years</td>\n      <td>A769064</td>\n      <td>Other</td>\n      <td>Bat Mix</td>\n      <td>Brown</td>\n      <td>2018-03-29T17:13:00.000</td>\n      <td>2018-03-29T17:13:00.000</td>\n      <td>2519 Scarbrough Dr in Travis (TX)</td>\n      <td>Normal</td>\n      <td>Wildlife</td>\n      <td>...</td>\n      <td>(-0.025, 2.5]</td>\n      <td>2018-03-29 17:13:00</td>\n      <td>3</td>\n      <td>2018</td>\n      <td>2018-03</td>\n      <td>Thursday</td>\n      <td>17</td>\n      <td>1.0</td>\n      <td>0 days 01:17:00.000000000</td>\n      <td>0.053472</td>\n    </tr>\n  </tbody>\n</table>\n<p>100130 rows × 53 columns</p>\n</div>"
     },
     "execution_count": 256,
     "metadata": {},
     "output_type": "execute_result"
    }
   ],
   "source": [
    "all_intakes = intake.merge(intakes_outcomes, left_on=['animal_id'], right_on=['animal_id_intake'])\n",
    "all_intakes"
   ],
   "metadata": {
    "collapsed": false,
    "pycharm": {
     "name": "#%%\n"
    }
   }
  },
  {
   "cell_type": "code",
   "execution_count": 257,
   "outputs": [
    {
     "data": {
      "text/plain": "array(['9409 Bluegrass Dr in Austin (TX)',\n       '2818 Palomino Trail in Austin (TX)', 'Austin (TX)', ...,\n       '1122 Walton Ln in Austin (TX)',\n       '11216 Jollyville Rd 216 in Austin (TX)',\n       '2519 Scarbrough Dr in Travis (TX)'], dtype=object)"
     },
     "execution_count": 257,
     "metadata": {},
     "output_type": "execute_result"
    }
   ],
   "source": [
    "all_intakes['found_location_x'].unique()"
   ],
   "metadata": {
    "collapsed": false,
    "pycharm": {
     "name": "#%%\n"
    }
   }
  },
  {
   "cell_type": "code",
   "execution_count": 258,
   "outputs": [],
   "source": [
    "#locations = intake['found_location'].unique()\n",
    "#main_area = []\n",
    "#max = []\n",
    "#a = 0\n",
    "#for lc in locations:\n",
    "    #if len(max) < 5:\n",
    "        #max.append(len(all_intakes.loc[all_intakes['found_location_x'] == lc,]))\n",
    "        #main_area.append(lc)\n",
    "    #elif len(max) == 5:\n",
    "        #max.append(len(all_intakes.loc[all_intakes['found_location_x'] == lc,]))\n",
    "        #main_area.append(lc)\n",
    "        #a = max.index(min(max))\n",
    "        #max.remove(min(max))\n",
    "        #main_area.remove(main_area[a])\n",
    "#print(f'The five areas where more pets are found are \\033[1m{main_area}\\033[1m')"
   ],
   "metadata": {
    "collapsed": false,
    "pycharm": {
     "name": "#%%\n"
    }
   }
  },
  {
   "cell_type": "markdown",
   "source": [
    "QUESTION 02: What is the average number of pets found in a month in the year 2015? Are there months where there is a higher number of animals found?"
   ],
   "metadata": {
    "collapsed": false,
    "pycharm": {
     "name": "#%% md\n"
    }
   }
  },
  {
   "cell_type": "code",
   "execution_count": 259,
   "outputs": [
    {
     "data": {
      "text/plain": "age_upon_intake             object\nanimal_id                   object\nanimal_type                 object\nbreed                       object\ncolor                       object\ndatetime            datetime64[ns]\ndatetime2                   object\nfound_location              object\nintake_condition            object\nintake_type                 object\nname                        object\nsex_upon_intake             object\ndtype: object"
     },
     "execution_count": 259,
     "metadata": {},
     "output_type": "execute_result"
    }
   ],
   "source": [
    "intake['datetime'] = pd.to_datetime(intake['datetime'])\n",
    "intake.dtypes"
   ],
   "metadata": {
    "collapsed": false,
    "pycharm": {
     "name": "#%%\n"
    }
   }
  },
  {
   "cell_type": "code",
   "execution_count": 260,
   "outputs": [
    {
     "data": {
      "text/plain": "      age_upon_intake animal_id animal_type                      breed  \\\n31988          1 year   A718503         Dog       Miniature Poodle Mix   \n51608         8 years   A718502         Dog               Pit Bull Mix   \n67752          1 year   A703506         Dog               Pit Bull Mix   \n70419          1 year   A718501         Dog  Australian Cattle Dog Mix   \n10735          1 year   A718498         Dog     Labrador Retriever Mix   \n...               ...       ...         ...                        ...   \n1255          3 years   A694638         Dog       Miniature Poodle Mix   \n62211         6 years   A694637         Dog            German Shepherd   \n23223         5 years   A694631         Dog                  Boxer Mix   \n20925         1 month   A694630         Dog               Pit Bull Mix   \n20493        2 months   A694626         Dog    Australian Shepherd Mix   \n\n                     color            datetime                datetime2  \\\n31988                White 2015-12-31 21:45:00  2015-12-31T21:45:00.000   \n51608  Brown Brindle/White 2015-12-31 16:05:00  2015-12-31T16:05:00.000   \n67752        Brown Brindle 2015-12-31 15:44:00  2015-12-31T15:44:00.000   \n70419          Black/White 2015-12-31 15:08:00  2015-12-31T15:08:00.000   \n10735                Black 2015-12-31 15:04:00  2015-12-31T15:04:00.000   \n...                    ...                 ...                      ...   \n1255                 White 2015-01-01 12:07:00  2015-01-01T12:07:00.000   \n62211          Black/Brown 2015-01-01 12:00:00  2015-01-01T12:00:00.000   \n23223          Brown/White 2015-01-01 11:23:00  2015-01-01T11:23:00.000   \n20925          Brown/White 2015-01-01 11:18:00  2015-01-01T11:18:00.000   \n20493          White/Cream 2015-01-01 10:53:00  2015-01-01T10:53:00.000   \n\n                                         found_location intake_condition  \\\n31988                 Ih 35 & Tech Ridge in Austin (TX)           Normal   \n51608                   4802 Brook Creek in Austin (TX)           Normal   \n67752                              Outside Jurisdiction           Normal   \n70419             Water Ave And S 1St St in Austin (TX)           Normal   \n10735                                       Austin (TX)           Normal   \n...                                                 ...              ...   \n1255                        Brantley Bnd in Austin (TX)           Normal   \n62211                       7900 Thaxton in Austin (TX)           Normal   \n23223  Gattis School Rd & Red Bud Ln in Round Rock (TX)           Normal   \n20925                 7201 Levander Loop in Austin (TX)           Normal   \n20493            Ganymede Dr & Europa Ln in Austin (TX)           Normal   \n\n           intake_type          name sex_upon_intake  \n31988            Stray     *Johannes     Intact Male  \n51608            Stray       Whiskey   Neutered Male  \n67752  Owner Surrender          Nala   Spayed Female  \n70419            Stray  *Hank Cowdog     Intact Male  \n10735  Owner Surrender     Snoop Dog     Intact Male  \n...                ...           ...             ...  \n1255             Stray       Ralphie     Intact Male  \n62211            Stray      *Cruiser     Intact Male  \n23223            Stray    Night Wing   Neutered Male  \n20925            Stray   *King Bacon     Intact Male  \n20493            Stray        *Nikki     Intact Male  \n\n[18712 rows x 12 columns]",
      "text/html": "<div>\n<style scoped>\n    .dataframe tbody tr th:only-of-type {\n        vertical-align: middle;\n    }\n\n    .dataframe tbody tr th {\n        vertical-align: top;\n    }\n\n    .dataframe thead th {\n        text-align: right;\n    }\n</style>\n<table border=\"1\" class=\"dataframe\">\n  <thead>\n    <tr style=\"text-align: right;\">\n      <th></th>\n      <th>age_upon_intake</th>\n      <th>animal_id</th>\n      <th>animal_type</th>\n      <th>breed</th>\n      <th>color</th>\n      <th>datetime</th>\n      <th>datetime2</th>\n      <th>found_location</th>\n      <th>intake_condition</th>\n      <th>intake_type</th>\n      <th>name</th>\n      <th>sex_upon_intake</th>\n    </tr>\n  </thead>\n  <tbody>\n    <tr>\n      <th>31988</th>\n      <td>1 year</td>\n      <td>A718503</td>\n      <td>Dog</td>\n      <td>Miniature Poodle Mix</td>\n      <td>White</td>\n      <td>2015-12-31 21:45:00</td>\n      <td>2015-12-31T21:45:00.000</td>\n      <td>Ih 35 &amp; Tech Ridge in Austin (TX)</td>\n      <td>Normal</td>\n      <td>Stray</td>\n      <td>*Johannes</td>\n      <td>Intact Male</td>\n    </tr>\n    <tr>\n      <th>51608</th>\n      <td>8 years</td>\n      <td>A718502</td>\n      <td>Dog</td>\n      <td>Pit Bull Mix</td>\n      <td>Brown Brindle/White</td>\n      <td>2015-12-31 16:05:00</td>\n      <td>2015-12-31T16:05:00.000</td>\n      <td>4802 Brook Creek in Austin (TX)</td>\n      <td>Normal</td>\n      <td>Stray</td>\n      <td>Whiskey</td>\n      <td>Neutered Male</td>\n    </tr>\n    <tr>\n      <th>67752</th>\n      <td>1 year</td>\n      <td>A703506</td>\n      <td>Dog</td>\n      <td>Pit Bull Mix</td>\n      <td>Brown Brindle</td>\n      <td>2015-12-31 15:44:00</td>\n      <td>2015-12-31T15:44:00.000</td>\n      <td>Outside Jurisdiction</td>\n      <td>Normal</td>\n      <td>Owner Surrender</td>\n      <td>Nala</td>\n      <td>Spayed Female</td>\n    </tr>\n    <tr>\n      <th>70419</th>\n      <td>1 year</td>\n      <td>A718501</td>\n      <td>Dog</td>\n      <td>Australian Cattle Dog Mix</td>\n      <td>Black/White</td>\n      <td>2015-12-31 15:08:00</td>\n      <td>2015-12-31T15:08:00.000</td>\n      <td>Water Ave And S 1St St in Austin (TX)</td>\n      <td>Normal</td>\n      <td>Stray</td>\n      <td>*Hank Cowdog</td>\n      <td>Intact Male</td>\n    </tr>\n    <tr>\n      <th>10735</th>\n      <td>1 year</td>\n      <td>A718498</td>\n      <td>Dog</td>\n      <td>Labrador Retriever Mix</td>\n      <td>Black</td>\n      <td>2015-12-31 15:04:00</td>\n      <td>2015-12-31T15:04:00.000</td>\n      <td>Austin (TX)</td>\n      <td>Normal</td>\n      <td>Owner Surrender</td>\n      <td>Snoop Dog</td>\n      <td>Intact Male</td>\n    </tr>\n    <tr>\n      <th>...</th>\n      <td>...</td>\n      <td>...</td>\n      <td>...</td>\n      <td>...</td>\n      <td>...</td>\n      <td>...</td>\n      <td>...</td>\n      <td>...</td>\n      <td>...</td>\n      <td>...</td>\n      <td>...</td>\n      <td>...</td>\n    </tr>\n    <tr>\n      <th>1255</th>\n      <td>3 years</td>\n      <td>A694638</td>\n      <td>Dog</td>\n      <td>Miniature Poodle Mix</td>\n      <td>White</td>\n      <td>2015-01-01 12:07:00</td>\n      <td>2015-01-01T12:07:00.000</td>\n      <td>Brantley Bnd in Austin (TX)</td>\n      <td>Normal</td>\n      <td>Stray</td>\n      <td>Ralphie</td>\n      <td>Intact Male</td>\n    </tr>\n    <tr>\n      <th>62211</th>\n      <td>6 years</td>\n      <td>A694637</td>\n      <td>Dog</td>\n      <td>German Shepherd</td>\n      <td>Black/Brown</td>\n      <td>2015-01-01 12:00:00</td>\n      <td>2015-01-01T12:00:00.000</td>\n      <td>7900 Thaxton in Austin (TX)</td>\n      <td>Normal</td>\n      <td>Stray</td>\n      <td>*Cruiser</td>\n      <td>Intact Male</td>\n    </tr>\n    <tr>\n      <th>23223</th>\n      <td>5 years</td>\n      <td>A694631</td>\n      <td>Dog</td>\n      <td>Boxer Mix</td>\n      <td>Brown/White</td>\n      <td>2015-01-01 11:23:00</td>\n      <td>2015-01-01T11:23:00.000</td>\n      <td>Gattis School Rd &amp; Red Bud Ln in Round Rock (TX)</td>\n      <td>Normal</td>\n      <td>Stray</td>\n      <td>Night Wing</td>\n      <td>Neutered Male</td>\n    </tr>\n    <tr>\n      <th>20925</th>\n      <td>1 month</td>\n      <td>A694630</td>\n      <td>Dog</td>\n      <td>Pit Bull Mix</td>\n      <td>Brown/White</td>\n      <td>2015-01-01 11:18:00</td>\n      <td>2015-01-01T11:18:00.000</td>\n      <td>7201 Levander Loop in Austin (TX)</td>\n      <td>Normal</td>\n      <td>Stray</td>\n      <td>*King Bacon</td>\n      <td>Intact Male</td>\n    </tr>\n    <tr>\n      <th>20493</th>\n      <td>2 months</td>\n      <td>A694626</td>\n      <td>Dog</td>\n      <td>Australian Shepherd Mix</td>\n      <td>White/Cream</td>\n      <td>2015-01-01 10:53:00</td>\n      <td>2015-01-01T10:53:00.000</td>\n      <td>Ganymede Dr &amp; Europa Ln in Austin (TX)</td>\n      <td>Normal</td>\n      <td>Stray</td>\n      <td>*Nikki</td>\n      <td>Intact Male</td>\n    </tr>\n  </tbody>\n</table>\n<p>18712 rows × 12 columns</p>\n</div>"
     },
     "execution_count": 260,
     "metadata": {},
     "output_type": "execute_result"
    }
   ],
   "source": [
    "intake_15 = intake[intake['datetime'] >= datetime.datetime(2015,1,1)].sort_values(by=['datetime'], ascending=False)[38637:]\n",
    "intake_15"
   ],
   "metadata": {
    "collapsed": false,
    "pycharm": {
     "name": "#%%\n"
    }
   }
  },
  {
   "cell_type": "code",
   "execution_count": 261,
   "outputs": [
    {
     "data": {
      "text/plain": "8538.083"
     },
     "execution_count": 261,
     "metadata": {},
     "output_type": "execute_result"
    }
   ],
   "source": [
    "intake_january = intake_15[intake_15['datetime'] <= datetime.datetime(2015,2,1)]\n",
    "intake_february = intake_15[intake_15['datetime'] < datetime.datetime(2015,3,1)]\n",
    "intake_march = intake_15[intake_15['datetime'] < datetime.datetime(2015,4,1)]\n",
    "intake_april = intake_15[intake_15['datetime'] < datetime.datetime(2015,5,1)]\n",
    "intake_may = intake_15[intake_15['datetime'] < datetime.datetime(2015,6,1)]\n",
    "intake_june = intake_15[intake_15['datetime'] < datetime.datetime(2015,7,1)]\n",
    "intake_july = intake_15[intake_15['datetime'] < datetime.datetime(2015,8,1)]\n",
    "intake_august = intake_15[intake_15['datetime'] < datetime.datetime(2015,9,1)]\n",
    "intake_september = intake_15[intake_15['datetime'] < datetime.datetime(2015,10,1)]\n",
    "intake_october = intake_15[intake_15['datetime'] < datetime.datetime(2015,11,1)]\n",
    "intake_november = intake_15[intake_15['datetime'] < datetime.datetime(2015,12,1)]\n",
    "intake_december = intake_15[intake_15['datetime'] > datetime.datetime(2015,12,1)]\n",
    "lanimals_month = [len(intake_january),len(intake_february), len(intake_march), len(intake_april), len(intake_may),\n",
    "                  len(intake_june), len(intake_july), len(intake_august), len(intake_september),\n",
    "                  len(intake_october), len(intake_november), len(intake_december)]\n",
    "kaniamls_month = {'January': lanimals_month[0], 'February': lanimals_month[1], 'March': lanimals_month[2],\n",
    "                  'April': lanimals_month[3], 'May': lanimals_month[4], 'June': lanimals_month[5],\n",
    "                  'July': lanimals_month[6], 'August': lanimals_month[7], 'September': lanimals_month[8],\n",
    "                  'October':lanimals_month[9], 'November': lanimals_month[10], 'December':lanimals_month[11]}\n",
    "\n",
    "ar = np.array(lanimals_month)\n",
    "average = np.sum(ar)/len(ar)\n",
    "average.round(3)"
   ],
   "metadata": {
    "collapsed": false,
    "pycharm": {
     "name": "#%%\n"
    }
   }
  },
  {
   "cell_type": "markdown",
   "source": [
    "QUESTION 03: What is the ratio of incoming pets vs. adopted pets?"
   ],
   "metadata": {
    "collapsed": false,
    "pycharm": {
     "name": "#%% md\n"
    }
   }
  },
  {
   "cell_type": "code",
   "execution_count": 262,
   "outputs": [
    {
     "data": {
      "text/plain": "0.994"
     },
     "execution_count": 262,
     "metadata": {},
     "output_type": "execute_result"
    }
   ],
   "source": [
    "incoming_pets = len(intake)\n",
    "adopted_pets = len(outcomes)\n",
    "ratio = incoming_pets/adopted_pets\n",
    "ratio.__round__(3)"
   ],
   "metadata": {
    "collapsed": false,
    "pycharm": {
     "name": "#%%\n"
    }
   }
  },
  {
   "cell_type": "markdown",
   "source": [
    "QUESTION 04: What is the distribution of the types of animals in the shelter?"
   ],
   "metadata": {
    "collapsed": false,
    "pycharm": {
     "name": "#%% md\n"
    }
   }
  },
  {
   "cell_type": "code",
   "execution_count": 263,
   "outputs": [
    {
     "data": {
      "text/plain": "      age_upon_intake animal_id animal_type  \\\n0             8 years   A706918         Dog   \n1           11 months   A724273         Dog   \n2             4 weeks   A665644         Cat   \n3             4 years   A682524         Dog   \n4             2 years   A743852         Dog   \n...               ...       ...         ...   \n80182        10 years   A769067         Dog   \n80183         5 years   A768934         Dog   \n80184         2 years   A769064       Other   \n80185         3 years   A675680         Dog   \n80186          1 year   A680949         Dog   \n\n                                        breed            color  \\\n0                    English Springer Spaniel      White/Liver   \n1                                 Basenji Mix      Sable/White   \n2                      Domestic Shorthair Mix           Calico   \n3       Doberman Pinsch/Australian Cattle Dog         Tan/Gray   \n4                      Labrador Retriever Mix        Chocolate   \n...                                       ...              ...   \n80182                               Boxer Mix    Brown Brindle   \n80183  Dachshund Wirehair/Chihuahua Shorthair  Chocolate/White   \n80184                                 Bat Mix            Brown   \n80185         German Shepherd/Black/Tan Hound      Black/Brown   \n80186              Chihuahua Shorthair/Beagle              Tan   \n\n                 datetime                datetime2  \\\n0     2015-07-05 12:59:00  2015-07-05T12:59:00.000   \n1     2016-04-14 18:43:00  2016-04-14T18:43:00.000   \n2     2013-10-21 07:59:00  2013-10-21T07:59:00.000   \n3     2014-06-29 10:38:00  2014-06-29T10:38:00.000   \n4     2017-02-18 12:46:00  2017-02-18T12:46:00.000   \n...                   ...                      ...   \n80182 2018-03-29 18:20:00  2018-03-29T18:20:00.000   \n80183 2018-03-27 14:27:00  2018-03-27T14:27:00.000   \n80184 2018-03-29 17:13:00  2018-03-29T17:13:00.000   \n80185 2014-03-31 18:10:00  2014-03-31T18:10:00.000   \n80186 2014-06-10 11:53:00  2014-06-10T11:53:00.000   \n\n                               found_location intake_condition  \\\n0            9409 Bluegrass Dr in Austin (TX)           Normal   \n1          2818 Palomino Trail in Austin (TX)           Normal   \n2                                 Austin (TX)             Sick   \n3               800 Grove Blvd in Austin (TX)           Normal   \n4                                 Austin (TX)           Normal   \n...                                       ...              ...   \n80182  11216 Jollyville Rd 216 in Austin (TX)             Aged   \n80183  603 West Johanna Street in Austin (TX)           Normal   \n80184       2519 Scarbrough Dr in Travis (TX)           Normal   \n80185                             Austin (TX)           Normal   \n80186            4605 Lyra Cir in Austin (TX)           Normal   \n\n           intake_type     name sex_upon_intake  \n0                Stray    Belle   Spayed Female  \n1                Stray  Runster     Intact Male  \n2                Stray      NaN   Intact Female  \n3                Stray      Rio   Neutered Male  \n4      Owner Surrender     Odin   Neutered Male  \n...                ...      ...             ...  \n80182            Stray      NaN   Spayed Female  \n80183            Stray      NaN     Intact Male  \n80184         Wildlife      NaN         Unknown  \n80185    Public Assist    Draco   Neutered Male  \n80186            Stray     Lolo     Intact Male  \n\n[80187 rows x 12 columns]",
      "text/html": "<div>\n<style scoped>\n    .dataframe tbody tr th:only-of-type {\n        vertical-align: middle;\n    }\n\n    .dataframe tbody tr th {\n        vertical-align: top;\n    }\n\n    .dataframe thead th {\n        text-align: right;\n    }\n</style>\n<table border=\"1\" class=\"dataframe\">\n  <thead>\n    <tr style=\"text-align: right;\">\n      <th></th>\n      <th>age_upon_intake</th>\n      <th>animal_id</th>\n      <th>animal_type</th>\n      <th>breed</th>\n      <th>color</th>\n      <th>datetime</th>\n      <th>datetime2</th>\n      <th>found_location</th>\n      <th>intake_condition</th>\n      <th>intake_type</th>\n      <th>name</th>\n      <th>sex_upon_intake</th>\n    </tr>\n  </thead>\n  <tbody>\n    <tr>\n      <th>0</th>\n      <td>8 years</td>\n      <td>A706918</td>\n      <td>Dog</td>\n      <td>English Springer Spaniel</td>\n      <td>White/Liver</td>\n      <td>2015-07-05 12:59:00</td>\n      <td>2015-07-05T12:59:00.000</td>\n      <td>9409 Bluegrass Dr in Austin (TX)</td>\n      <td>Normal</td>\n      <td>Stray</td>\n      <td>Belle</td>\n      <td>Spayed Female</td>\n    </tr>\n    <tr>\n      <th>1</th>\n      <td>11 months</td>\n      <td>A724273</td>\n      <td>Dog</td>\n      <td>Basenji Mix</td>\n      <td>Sable/White</td>\n      <td>2016-04-14 18:43:00</td>\n      <td>2016-04-14T18:43:00.000</td>\n      <td>2818 Palomino Trail in Austin (TX)</td>\n      <td>Normal</td>\n      <td>Stray</td>\n      <td>Runster</td>\n      <td>Intact Male</td>\n    </tr>\n    <tr>\n      <th>2</th>\n      <td>4 weeks</td>\n      <td>A665644</td>\n      <td>Cat</td>\n      <td>Domestic Shorthair Mix</td>\n      <td>Calico</td>\n      <td>2013-10-21 07:59:00</td>\n      <td>2013-10-21T07:59:00.000</td>\n      <td>Austin (TX)</td>\n      <td>Sick</td>\n      <td>Stray</td>\n      <td>NaN</td>\n      <td>Intact Female</td>\n    </tr>\n    <tr>\n      <th>3</th>\n      <td>4 years</td>\n      <td>A682524</td>\n      <td>Dog</td>\n      <td>Doberman Pinsch/Australian Cattle Dog</td>\n      <td>Tan/Gray</td>\n      <td>2014-06-29 10:38:00</td>\n      <td>2014-06-29T10:38:00.000</td>\n      <td>800 Grove Blvd in Austin (TX)</td>\n      <td>Normal</td>\n      <td>Stray</td>\n      <td>Rio</td>\n      <td>Neutered Male</td>\n    </tr>\n    <tr>\n      <th>4</th>\n      <td>2 years</td>\n      <td>A743852</td>\n      <td>Dog</td>\n      <td>Labrador Retriever Mix</td>\n      <td>Chocolate</td>\n      <td>2017-02-18 12:46:00</td>\n      <td>2017-02-18T12:46:00.000</td>\n      <td>Austin (TX)</td>\n      <td>Normal</td>\n      <td>Owner Surrender</td>\n      <td>Odin</td>\n      <td>Neutered Male</td>\n    </tr>\n    <tr>\n      <th>...</th>\n      <td>...</td>\n      <td>...</td>\n      <td>...</td>\n      <td>...</td>\n      <td>...</td>\n      <td>...</td>\n      <td>...</td>\n      <td>...</td>\n      <td>...</td>\n      <td>...</td>\n      <td>...</td>\n      <td>...</td>\n    </tr>\n    <tr>\n      <th>80182</th>\n      <td>10 years</td>\n      <td>A769067</td>\n      <td>Dog</td>\n      <td>Boxer Mix</td>\n      <td>Brown Brindle</td>\n      <td>2018-03-29 18:20:00</td>\n      <td>2018-03-29T18:20:00.000</td>\n      <td>11216 Jollyville Rd 216 in Austin (TX)</td>\n      <td>Aged</td>\n      <td>Stray</td>\n      <td>NaN</td>\n      <td>Spayed Female</td>\n    </tr>\n    <tr>\n      <th>80183</th>\n      <td>5 years</td>\n      <td>A768934</td>\n      <td>Dog</td>\n      <td>Dachshund Wirehair/Chihuahua Shorthair</td>\n      <td>Chocolate/White</td>\n      <td>2018-03-27 14:27:00</td>\n      <td>2018-03-27T14:27:00.000</td>\n      <td>603 West Johanna Street in Austin (TX)</td>\n      <td>Normal</td>\n      <td>Stray</td>\n      <td>NaN</td>\n      <td>Intact Male</td>\n    </tr>\n    <tr>\n      <th>80184</th>\n      <td>2 years</td>\n      <td>A769064</td>\n      <td>Other</td>\n      <td>Bat Mix</td>\n      <td>Brown</td>\n      <td>2018-03-29 17:13:00</td>\n      <td>2018-03-29T17:13:00.000</td>\n      <td>2519 Scarbrough Dr in Travis (TX)</td>\n      <td>Normal</td>\n      <td>Wildlife</td>\n      <td>NaN</td>\n      <td>Unknown</td>\n    </tr>\n    <tr>\n      <th>80185</th>\n      <td>3 years</td>\n      <td>A675680</td>\n      <td>Dog</td>\n      <td>German Shepherd/Black/Tan Hound</td>\n      <td>Black/Brown</td>\n      <td>2014-03-31 18:10:00</td>\n      <td>2014-03-31T18:10:00.000</td>\n      <td>Austin (TX)</td>\n      <td>Normal</td>\n      <td>Public Assist</td>\n      <td>Draco</td>\n      <td>Neutered Male</td>\n    </tr>\n    <tr>\n      <th>80186</th>\n      <td>1 year</td>\n      <td>A680949</td>\n      <td>Dog</td>\n      <td>Chihuahua Shorthair/Beagle</td>\n      <td>Tan</td>\n      <td>2014-06-10 11:53:00</td>\n      <td>2014-06-10T11:53:00.000</td>\n      <td>4605 Lyra Cir in Austin (TX)</td>\n      <td>Normal</td>\n      <td>Stray</td>\n      <td>Lolo</td>\n      <td>Intact Male</td>\n    </tr>\n  </tbody>\n</table>\n<p>80187 rows × 12 columns</p>\n</div>"
     },
     "execution_count": 263,
     "metadata": {},
     "output_type": "execute_result"
    }
   ],
   "source": [
    "intake"
   ],
   "metadata": {
    "collapsed": false,
    "pycharm": {
     "name": "#%%\n"
    }
   }
  },
  {
   "cell_type": "markdown",
   "source": [
    "Most phenomena in the real world are truly random. The normal distribution reflects this."
   ],
   "metadata": {
    "collapsed": false,
    "pycharm": {
     "name": "#%% md\n"
    }
   }
  },
  {
   "cell_type": "markdown",
   "source": [
    "NORMAL DISTRIBUTION: The arguments for the normal distribution are:\n",
    "    loc: Is the mean\n",
    "    scale: Is the square root of the variance, i.e. the standard deviation\n",
    "    size: Is the sample size or the number of trials."
   ],
   "metadata": {
    "collapsed": false,
    "pycharm": {
     "name": "#%% md\n"
    }
   }
  },
  {
   "cell_type": "code",
   "execution_count": 264,
   "outputs": [
    {
     "data": {
      "text/plain": "array(['Dog', 'Cat', 'Other', 'Bird', 'Livestock'], dtype=object)"
     },
     "execution_count": 264,
     "metadata": {},
     "output_type": "execute_result"
    }
   ],
   "source": [
    "type_animals = intake['animal_type'].unique()\n",
    "type_animals"
   ],
   "metadata": {
    "collapsed": false,
    "pycharm": {
     "name": "#%%\n"
    }
   }
  },
  {
   "cell_type": "markdown",
   "source": [
    "So we have 5 different options... I am going to divide the data in 20 lots (5% of the total each). And I am going to get the NORMAL DISTRIBUTION of each animal."
   ],
   "metadata": {
    "collapsed": false,
    "pycharm": {
     "name": "#%% md\n"
    }
   }
  },
  {
   "cell_type": "markdown",
   "source": [
    "DOG's DISTRIBUTION"
   ],
   "metadata": {
    "collapsed": false,
    "pycharm": {
     "name": "#%% md\n"
    }
   }
  },
  {
   "cell_type": "code",
   "execution_count": 298,
   "outputs": [
    {
     "data": {
      "text/plain": "      age_upon_intake animal_id animal_type                    breed  \\\n80175         1 month   A763562         Dog  Chihuahua Shorthair Mix   \n80176        5 months   A763562         Dog  Chihuahua Shorthair Mix   \n80177         4 years   A701265         Dog             Pit Bull Mix   \n80178         4 years   A722721         Cat   Domestic Shorthair Mix   \n80179         2 years   A769046         Dog  Chihuahua Shorthair Mix   \n\n               color            datetime                datetime2  \\\n80175          Cream 2017-12-11 11:04:00  2017-12-11T11:04:00.000   \n80176          Cream 2018-03-17 14:59:00  2018-03-17T14:59:00.000   \n80177     Blue/White 2018-03-29 17:45:00  2018-03-29T17:45:00.000   \n80178          Black 2018-03-29 17:54:00  2018-03-29T17:54:00.000   \n80179  Brown Brindle 2018-03-29 13:24:00  2018-03-29T13:24:00.000   \n\n                              found_location intake_condition  \\\n80175                            Austin (TX)           Normal   \n80176                            Austin (TX)           Normal   \n80177                            Travis (TX)           Normal   \n80178  1601 Royal Crest Drive in Austin (TX)           Normal   \n80179                            Austin (TX)             Sick   \n\n           intake_type    name sex_upon_intake  \n80175  Owner Surrender  Kuzkoo     Intact Male  \n80176  Owner Surrender  Kuzkoo   Neutered Male  \n80177            Stray    Blue   Neutered Male  \n80178            Stray     NaN   Spayed Female  \n80179  Owner Surrender  *Charm   Spayed Female  ",
      "text/html": "<div>\n<style scoped>\n    .dataframe tbody tr th:only-of-type {\n        vertical-align: middle;\n    }\n\n    .dataframe tbody tr th {\n        vertical-align: top;\n    }\n\n    .dataframe thead th {\n        text-align: right;\n    }\n</style>\n<table border=\"1\" class=\"dataframe\">\n  <thead>\n    <tr style=\"text-align: right;\">\n      <th></th>\n      <th>age_upon_intake</th>\n      <th>animal_id</th>\n      <th>animal_type</th>\n      <th>breed</th>\n      <th>color</th>\n      <th>datetime</th>\n      <th>datetime2</th>\n      <th>found_location</th>\n      <th>intake_condition</th>\n      <th>intake_type</th>\n      <th>name</th>\n      <th>sex_upon_intake</th>\n    </tr>\n  </thead>\n  <tbody>\n    <tr>\n      <th>80175</th>\n      <td>1 month</td>\n      <td>A763562</td>\n      <td>Dog</td>\n      <td>Chihuahua Shorthair Mix</td>\n      <td>Cream</td>\n      <td>2017-12-11 11:04:00</td>\n      <td>2017-12-11T11:04:00.000</td>\n      <td>Austin (TX)</td>\n      <td>Normal</td>\n      <td>Owner Surrender</td>\n      <td>Kuzkoo</td>\n      <td>Intact Male</td>\n    </tr>\n    <tr>\n      <th>80176</th>\n      <td>5 months</td>\n      <td>A763562</td>\n      <td>Dog</td>\n      <td>Chihuahua Shorthair Mix</td>\n      <td>Cream</td>\n      <td>2018-03-17 14:59:00</td>\n      <td>2018-03-17T14:59:00.000</td>\n      <td>Austin (TX)</td>\n      <td>Normal</td>\n      <td>Owner Surrender</td>\n      <td>Kuzkoo</td>\n      <td>Neutered Male</td>\n    </tr>\n    <tr>\n      <th>80177</th>\n      <td>4 years</td>\n      <td>A701265</td>\n      <td>Dog</td>\n      <td>Pit Bull Mix</td>\n      <td>Blue/White</td>\n      <td>2018-03-29 17:45:00</td>\n      <td>2018-03-29T17:45:00.000</td>\n      <td>Travis (TX)</td>\n      <td>Normal</td>\n      <td>Stray</td>\n      <td>Blue</td>\n      <td>Neutered Male</td>\n    </tr>\n    <tr>\n      <th>80178</th>\n      <td>4 years</td>\n      <td>A722721</td>\n      <td>Cat</td>\n      <td>Domestic Shorthair Mix</td>\n      <td>Black</td>\n      <td>2018-03-29 17:54:00</td>\n      <td>2018-03-29T17:54:00.000</td>\n      <td>1601 Royal Crest Drive in Austin (TX)</td>\n      <td>Normal</td>\n      <td>Stray</td>\n      <td>NaN</td>\n      <td>Spayed Female</td>\n    </tr>\n    <tr>\n      <th>80179</th>\n      <td>2 years</td>\n      <td>A769046</td>\n      <td>Dog</td>\n      <td>Chihuahua Shorthair Mix</td>\n      <td>Brown Brindle</td>\n      <td>2018-03-29 13:24:00</td>\n      <td>2018-03-29T13:24:00.000</td>\n      <td>Austin (TX)</td>\n      <td>Sick</td>\n      <td>Owner Surrender</td>\n      <td>*Charm</td>\n      <td>Spayed Female</td>\n    </tr>\n  </tbody>\n</table>\n</div>"
     },
     "execution_count": 298,
     "metadata": {},
     "output_type": "execute_result"
    }
   ],
   "source": [
    "total_dogs = len(intake[intake['animal_type']=='Dog'])\n",
    "dogs_mean = total_dogs / len(intake)\n",
    "samples_per_lot = int(len(intake) / 20)\n",
    "lots = []\n",
    "x = 0\n",
    "y = samples_per_lot\n",
    "while len(lots) < 20:\n",
    "    lots.append(intake[x:y])\n",
    "    x = y\n",
    "    y += samples_per_lot\n",
    "lot01 = lots[0]\n",
    "lot02 = lots[1]\n",
    "lot03 = lots[2]\n",
    "lot04 = lots[3]\n",
    "lot05 = lots[4]\n",
    "lot06 = lots[5]\n",
    "lot07 = lots[6]\n",
    "lot08 = lots[7]\n",
    "lot09 = lots[8]\n",
    "lot10 = lots[9]\n",
    "lot11 = lots[10]\n",
    "lot12 = lots[11]\n",
    "lot13 = lots[12]\n",
    "lot14 = lots[13]\n",
    "lot15 = lots[14]\n",
    "lot16 = lots[15]\n",
    "lot17 = lots[16]\n",
    "lot18 = lots[17]\n",
    "lot19 = lots[18]\n",
    "lot20 = lots[19]\n",
    "\n",
    "lot20.tail()"
   ],
   "metadata": {
    "collapsed": false,
    "pycharm": {
     "name": "#%%\n"
    }
   }
  }
 ],
 "metadata": {
  "kernelspec": {
   "display_name": "Python 3",
   "language": "python",
   "name": "python3"
  },
  "language_info": {
   "codemirror_mode": {
    "name": "ipython",
    "version": 2
   },
   "file_extension": ".py",
   "mimetype": "text/x-python",
   "name": "python",
   "nbconvert_exporter": "python",
   "pygments_lexer": "ipython2",
   "version": "2.7.6"
  }
 },
 "nbformat": 4,
 "nbformat_minor": 0
}