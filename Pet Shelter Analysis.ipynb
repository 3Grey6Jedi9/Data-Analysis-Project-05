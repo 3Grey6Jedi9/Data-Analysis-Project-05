{
 "cells": [
  {
   "cell_type": "code",
   "execution_count": 149,
   "metadata": {
    "collapsed": true,
    "pycharm": {
     "name": "#%%\n"
    }
   },
   "outputs": [],
   "source": [
    "import pandas as pd\n",
    "import numpy as np\n",
    "import datetime\n",
    "intake = pd.read_csv('aac_intakes.csv')\n",
    "intakes_outcomes = pd.read_csv('aac_intakes_outcomes.csv')\n",
    "outcomes = pd.read_csv('aac_outcomes.csv')"
   ]
  },
  {
   "cell_type": "markdown",
   "source": [
    "1) Is there an area where more pets are found?"
   ],
   "metadata": {
    "collapsed": false,
    "pycharm": {
     "name": "#%% md\n"
    }
   }
  },
  {
   "cell_type": "code",
   "execution_count": 150,
   "outputs": [
    {
     "data": {
      "text/plain": "  age_upon_outcome animal_id_outcome        date_of_birth outcome_subtype  \\\n0         10 years           A006100  2007-07-09 00:00:00             NaN   \n1          7 years           A006100  2007-07-09 00:00:00             NaN   \n2          6 years           A006100  2007-07-09 00:00:00             NaN   \n3         10 years           A047759  2004-04-02 00:00:00         Partner   \n4         16 years           A134067  1997-10-16 00:00:00             NaN   \n\n      outcome_type sex_upon_outcome  age_upon_outcome_(days)  \\\n0  Return to Owner    Neutered Male                     3650   \n1  Return to Owner    Neutered Male                     2555   \n2  Return to Owner    Neutered Male                     2190   \n3         Transfer    Neutered Male                     3650   \n4  Return to Owner    Neutered Male                     5840   \n\n   age_upon_outcome_(years) age_upon_outcome_age_group     outcome_datetime  \\\n0                      10.0                (7.5, 10.0]  2017-12-07 14:07:00   \n1                       7.0                 (5.0, 7.5]  2014-12-20 16:35:00   \n2                       6.0                 (5.0, 7.5]  2014-03-08 17:10:00   \n3                      10.0                (7.5, 10.0]  2014-04-07 15:12:00   \n4                      16.0               (15.0, 17.5]  2013-11-16 11:54:00   \n\n   ...  age_upon_intake_age_group      intake_datetime intake_month  \\\n0  ...                (7.5, 10.0]  2017-12-07 00:00:00           12   \n1  ...                 (5.0, 7.5]  2014-12-19 10:21:00           12   \n2  ...                 (5.0, 7.5]  2014-03-07 14:26:00            3   \n3  ...                (7.5, 10.0]  2014-04-02 15:55:00            4   \n4  ...               (15.0, 17.5]  2013-11-16 09:02:00           11   \n\n  intake_year  intake_monthyear  intake_weekday  intake_hour  intake_number  \\\n0        2017           2017-12        Thursday           14            1.0   \n1        2014           2014-12          Friday           10            2.0   \n2        2014           2014-03          Friday           14            3.0   \n3        2014           2014-04       Wednesday           15            1.0   \n4        2013           2013-11        Saturday            9            1.0   \n\n             time_in_shelter time_in_shelter_days  \n0  0 days 14:07:00.000000000             0.588194  \n1  1 days 06:14:00.000000000             1.259722  \n2  1 days 02:44:00.000000000             1.113889  \n3  4 days 23:17:00.000000000             4.970139  \n4  0 days 02:52:00.000000000             0.119444  \n\n[5 rows x 41 columns]",
      "text/html": "<div>\n<style scoped>\n    .dataframe tbody tr th:only-of-type {\n        vertical-align: middle;\n    }\n\n    .dataframe tbody tr th {\n        vertical-align: top;\n    }\n\n    .dataframe thead th {\n        text-align: right;\n    }\n</style>\n<table border=\"1\" class=\"dataframe\">\n  <thead>\n    <tr style=\"text-align: right;\">\n      <th></th>\n      <th>age_upon_outcome</th>\n      <th>animal_id_outcome</th>\n      <th>date_of_birth</th>\n      <th>outcome_subtype</th>\n      <th>outcome_type</th>\n      <th>sex_upon_outcome</th>\n      <th>age_upon_outcome_(days)</th>\n      <th>age_upon_outcome_(years)</th>\n      <th>age_upon_outcome_age_group</th>\n      <th>outcome_datetime</th>\n      <th>...</th>\n      <th>age_upon_intake_age_group</th>\n      <th>intake_datetime</th>\n      <th>intake_month</th>\n      <th>intake_year</th>\n      <th>intake_monthyear</th>\n      <th>intake_weekday</th>\n      <th>intake_hour</th>\n      <th>intake_number</th>\n      <th>time_in_shelter</th>\n      <th>time_in_shelter_days</th>\n    </tr>\n  </thead>\n  <tbody>\n    <tr>\n      <th>0</th>\n      <td>10 years</td>\n      <td>A006100</td>\n      <td>2007-07-09 00:00:00</td>\n      <td>NaN</td>\n      <td>Return to Owner</td>\n      <td>Neutered Male</td>\n      <td>3650</td>\n      <td>10.0</td>\n      <td>(7.5, 10.0]</td>\n      <td>2017-12-07 14:07:00</td>\n      <td>...</td>\n      <td>(7.5, 10.0]</td>\n      <td>2017-12-07 00:00:00</td>\n      <td>12</td>\n      <td>2017</td>\n      <td>2017-12</td>\n      <td>Thursday</td>\n      <td>14</td>\n      <td>1.0</td>\n      <td>0 days 14:07:00.000000000</td>\n      <td>0.588194</td>\n    </tr>\n    <tr>\n      <th>1</th>\n      <td>7 years</td>\n      <td>A006100</td>\n      <td>2007-07-09 00:00:00</td>\n      <td>NaN</td>\n      <td>Return to Owner</td>\n      <td>Neutered Male</td>\n      <td>2555</td>\n      <td>7.0</td>\n      <td>(5.0, 7.5]</td>\n      <td>2014-12-20 16:35:00</td>\n      <td>...</td>\n      <td>(5.0, 7.5]</td>\n      <td>2014-12-19 10:21:00</td>\n      <td>12</td>\n      <td>2014</td>\n      <td>2014-12</td>\n      <td>Friday</td>\n      <td>10</td>\n      <td>2.0</td>\n      <td>1 days 06:14:00.000000000</td>\n      <td>1.259722</td>\n    </tr>\n    <tr>\n      <th>2</th>\n      <td>6 years</td>\n      <td>A006100</td>\n      <td>2007-07-09 00:00:00</td>\n      <td>NaN</td>\n      <td>Return to Owner</td>\n      <td>Neutered Male</td>\n      <td>2190</td>\n      <td>6.0</td>\n      <td>(5.0, 7.5]</td>\n      <td>2014-03-08 17:10:00</td>\n      <td>...</td>\n      <td>(5.0, 7.5]</td>\n      <td>2014-03-07 14:26:00</td>\n      <td>3</td>\n      <td>2014</td>\n      <td>2014-03</td>\n      <td>Friday</td>\n      <td>14</td>\n      <td>3.0</td>\n      <td>1 days 02:44:00.000000000</td>\n      <td>1.113889</td>\n    </tr>\n    <tr>\n      <th>3</th>\n      <td>10 years</td>\n      <td>A047759</td>\n      <td>2004-04-02 00:00:00</td>\n      <td>Partner</td>\n      <td>Transfer</td>\n      <td>Neutered Male</td>\n      <td>3650</td>\n      <td>10.0</td>\n      <td>(7.5, 10.0]</td>\n      <td>2014-04-07 15:12:00</td>\n      <td>...</td>\n      <td>(7.5, 10.0]</td>\n      <td>2014-04-02 15:55:00</td>\n      <td>4</td>\n      <td>2014</td>\n      <td>2014-04</td>\n      <td>Wednesday</td>\n      <td>15</td>\n      <td>1.0</td>\n      <td>4 days 23:17:00.000000000</td>\n      <td>4.970139</td>\n    </tr>\n    <tr>\n      <th>4</th>\n      <td>16 years</td>\n      <td>A134067</td>\n      <td>1997-10-16 00:00:00</td>\n      <td>NaN</td>\n      <td>Return to Owner</td>\n      <td>Neutered Male</td>\n      <td>5840</td>\n      <td>16.0</td>\n      <td>(15.0, 17.5]</td>\n      <td>2013-11-16 11:54:00</td>\n      <td>...</td>\n      <td>(15.0, 17.5]</td>\n      <td>2013-11-16 09:02:00</td>\n      <td>11</td>\n      <td>2013</td>\n      <td>2013-11</td>\n      <td>Saturday</td>\n      <td>9</td>\n      <td>1.0</td>\n      <td>0 days 02:52:00.000000000</td>\n      <td>0.119444</td>\n    </tr>\n  </tbody>\n</table>\n<p>5 rows × 41 columns</p>\n</div>"
     },
     "execution_count": 150,
     "metadata": {},
     "output_type": "execute_result"
    }
   ],
   "source": [
    "intakes_outcomes.head()"
   ],
   "metadata": {
    "collapsed": false,
    "pycharm": {
     "name": "#%%\n"
    }
   }
  },
  {
   "cell_type": "code",
   "execution_count": 151,
   "outputs": [
    {
     "data": {
      "text/plain": "  age_upon_intake animal_id animal_type  \\\n0         8 years   A706918         Dog   \n1       11 months   A724273         Dog   \n2         4 weeks   A665644         Cat   \n3         4 years   A682524         Dog   \n4         2 years   A743852         Dog   \n\n                                   breed        color  \\\n0               English Springer Spaniel  White/Liver   \n1                            Basenji Mix  Sable/White   \n2                 Domestic Shorthair Mix       Calico   \n3  Doberman Pinsch/Australian Cattle Dog     Tan/Gray   \n4                 Labrador Retriever Mix    Chocolate   \n\n                  datetime                datetime2  \\\n0  2015-07-05T12:59:00.000  2015-07-05T12:59:00.000   \n1  2016-04-14T18:43:00.000  2016-04-14T18:43:00.000   \n2  2013-10-21T07:59:00.000  2013-10-21T07:59:00.000   \n3  2014-06-29T10:38:00.000  2014-06-29T10:38:00.000   \n4  2017-02-18T12:46:00.000  2017-02-18T12:46:00.000   \n\n                       found_location intake_condition      intake_type  \\\n0    9409 Bluegrass Dr in Austin (TX)           Normal            Stray   \n1  2818 Palomino Trail in Austin (TX)           Normal            Stray   \n2                         Austin (TX)             Sick            Stray   \n3       800 Grove Blvd in Austin (TX)           Normal            Stray   \n4                         Austin (TX)           Normal  Owner Surrender   \n\n      name sex_upon_intake  \n0    Belle   Spayed Female  \n1  Runster     Intact Male  \n2      NaN   Intact Female  \n3      Rio   Neutered Male  \n4     Odin   Neutered Male  ",
      "text/html": "<div>\n<style scoped>\n    .dataframe tbody tr th:only-of-type {\n        vertical-align: middle;\n    }\n\n    .dataframe tbody tr th {\n        vertical-align: top;\n    }\n\n    .dataframe thead th {\n        text-align: right;\n    }\n</style>\n<table border=\"1\" class=\"dataframe\">\n  <thead>\n    <tr style=\"text-align: right;\">\n      <th></th>\n      <th>age_upon_intake</th>\n      <th>animal_id</th>\n      <th>animal_type</th>\n      <th>breed</th>\n      <th>color</th>\n      <th>datetime</th>\n      <th>datetime2</th>\n      <th>found_location</th>\n      <th>intake_condition</th>\n      <th>intake_type</th>\n      <th>name</th>\n      <th>sex_upon_intake</th>\n    </tr>\n  </thead>\n  <tbody>\n    <tr>\n      <th>0</th>\n      <td>8 years</td>\n      <td>A706918</td>\n      <td>Dog</td>\n      <td>English Springer Spaniel</td>\n      <td>White/Liver</td>\n      <td>2015-07-05T12:59:00.000</td>\n      <td>2015-07-05T12:59:00.000</td>\n      <td>9409 Bluegrass Dr in Austin (TX)</td>\n      <td>Normal</td>\n      <td>Stray</td>\n      <td>Belle</td>\n      <td>Spayed Female</td>\n    </tr>\n    <tr>\n      <th>1</th>\n      <td>11 months</td>\n      <td>A724273</td>\n      <td>Dog</td>\n      <td>Basenji Mix</td>\n      <td>Sable/White</td>\n      <td>2016-04-14T18:43:00.000</td>\n      <td>2016-04-14T18:43:00.000</td>\n      <td>2818 Palomino Trail in Austin (TX)</td>\n      <td>Normal</td>\n      <td>Stray</td>\n      <td>Runster</td>\n      <td>Intact Male</td>\n    </tr>\n    <tr>\n      <th>2</th>\n      <td>4 weeks</td>\n      <td>A665644</td>\n      <td>Cat</td>\n      <td>Domestic Shorthair Mix</td>\n      <td>Calico</td>\n      <td>2013-10-21T07:59:00.000</td>\n      <td>2013-10-21T07:59:00.000</td>\n      <td>Austin (TX)</td>\n      <td>Sick</td>\n      <td>Stray</td>\n      <td>NaN</td>\n      <td>Intact Female</td>\n    </tr>\n    <tr>\n      <th>3</th>\n      <td>4 years</td>\n      <td>A682524</td>\n      <td>Dog</td>\n      <td>Doberman Pinsch/Australian Cattle Dog</td>\n      <td>Tan/Gray</td>\n      <td>2014-06-29T10:38:00.000</td>\n      <td>2014-06-29T10:38:00.000</td>\n      <td>800 Grove Blvd in Austin (TX)</td>\n      <td>Normal</td>\n      <td>Stray</td>\n      <td>Rio</td>\n      <td>Neutered Male</td>\n    </tr>\n    <tr>\n      <th>4</th>\n      <td>2 years</td>\n      <td>A743852</td>\n      <td>Dog</td>\n      <td>Labrador Retriever Mix</td>\n      <td>Chocolate</td>\n      <td>2017-02-18T12:46:00.000</td>\n      <td>2017-02-18T12:46:00.000</td>\n      <td>Austin (TX)</td>\n      <td>Normal</td>\n      <td>Owner Surrender</td>\n      <td>Odin</td>\n      <td>Neutered Male</td>\n    </tr>\n  </tbody>\n</table>\n</div>"
     },
     "execution_count": 151,
     "metadata": {},
     "output_type": "execute_result"
    }
   ],
   "source": [
    "intake.head()"
   ],
   "metadata": {
    "collapsed": false,
    "pycharm": {
     "name": "#%%\n"
    }
   }
  },
  {
   "cell_type": "code",
   "execution_count": 152,
   "outputs": [
    {
     "data": {
      "text/plain": "       age_upon_intake_x animal_id animal_type_x  \\\n0                8 years   A706918           Dog   \n1              11 months   A724273           Dog   \n2                4 weeks   A665644           Cat   \n3                4 years   A682524           Dog   \n4                2 years   A743852           Dog   \n...                  ...       ...           ...   \n100125          5 months   A763562           Dog   \n100126            1 year   A769065         Other   \n100127          10 years   A769067           Dog   \n100128           5 years   A768934           Dog   \n100129           2 years   A769064         Other   \n\n                                       breed_x          color_x  \\\n0                     English Springer Spaniel      White/Liver   \n1                                  Basenji Mix      Sable/White   \n2                       Domestic Shorthair Mix           Calico   \n3        Doberman Pinsch/Australian Cattle Dog         Tan/Gray   \n4                       Labrador Retriever Mix        Chocolate   \n...                                        ...              ...   \n100125                 Chihuahua Shorthair Mix            Cream   \n100126                                 Bat Mix            Brown   \n100127                               Boxer Mix    Brown Brindle   \n100128  Dachshund Wirehair/Chihuahua Shorthair  Chocolate/White   \n100129                                 Bat Mix            Brown   \n\n                       datetime                datetime2  \\\n0       2015-07-05T12:59:00.000  2015-07-05T12:59:00.000   \n1       2016-04-14T18:43:00.000  2016-04-14T18:43:00.000   \n2       2013-10-21T07:59:00.000  2013-10-21T07:59:00.000   \n3       2014-06-29T10:38:00.000  2014-06-29T10:38:00.000   \n4       2017-02-18T12:46:00.000  2017-02-18T12:46:00.000   \n...                         ...                      ...   \n100125  2018-03-17T14:59:00.000  2018-03-17T14:59:00.000   \n100126  2018-03-29T17:19:00.000  2018-03-29T17:19:00.000   \n100127  2018-03-29T18:20:00.000  2018-03-29T18:20:00.000   \n100128  2018-03-27T14:27:00.000  2018-03-27T14:27:00.000   \n100129  2018-03-29T17:13:00.000  2018-03-29T17:13:00.000   \n\n                              found_location_x intake_condition_x  \\\n0             9409 Bluegrass Dr in Austin (TX)             Normal   \n1           2818 Palomino Trail in Austin (TX)             Normal   \n2                                  Austin (TX)               Sick   \n3                800 Grove Blvd in Austin (TX)             Normal   \n4                                  Austin (TX)             Normal   \n...                                        ...                ...   \n100125                             Austin (TX)             Normal   \n100126           1122 Walton Ln in Austin (TX)             Normal   \n100127  11216 Jollyville Rd 216 in Austin (TX)               Aged   \n100128  603 West Johanna Street in Austin (TX)             Normal   \n100129       2519 Scarbrough Dr in Travis (TX)             Normal   \n\n          intake_type_x  ... age_upon_intake_age_group      intake_datetime  \\\n0                 Stray  ...               (7.5, 10.0]  2015-07-05 12:59:00   \n1                 Stray  ...             (-0.025, 2.5]  2016-04-14 18:43:00   \n2                 Stray  ...             (-0.025, 2.5]  2013-10-21 07:59:00   \n3                 Stray  ...                (2.5, 5.0]  2014-06-29 10:38:00   \n4       Owner Surrender  ...             (-0.025, 2.5]  2017-02-18 12:46:00   \n...                 ...  ...                       ...                  ...   \n100125  Owner Surrender  ...             (-0.025, 2.5]  2017-12-11 11:04:00   \n100126         Wildlife  ...             (-0.025, 2.5]  2018-03-29 17:19:00   \n100127            Stray  ...               (7.5, 10.0]  2018-03-29 18:20:00   \n100128            Stray  ...                (2.5, 5.0]  2018-03-27 14:27:00   \n100129         Wildlife  ...             (-0.025, 2.5]  2018-03-29 17:13:00   \n\n       intake_month intake_year intake_monthyear intake_weekday intake_hour  \\\n0                 7        2015          2015-07         Sunday          12   \n1                 4        2016          2016-04       Thursday          18   \n2                10        2013          2013-10         Monday           7   \n3                 6        2014          2014-06         Sunday          10   \n4                 2        2017          2017-02       Saturday          12   \n...             ...         ...              ...            ...         ...   \n100125           12        2017          2017-12         Monday          11   \n100126            3        2018          2018-03       Thursday          17   \n100127            3        2018          2018-03       Thursday          18   \n100128            3        2018          2018-03        Tuesday          14   \n100129            3        2018          2018-03       Thursday          17   \n\n       intake_number            time_in_shelter  time_in_shelter_days  \n0                1.0  0 days 02:14:00.000000000              0.093056  \n1                1.0  6 days 22:34:00.000000000              6.940278  \n2                1.0  0 days 03:40:00.000000000              0.152778  \n3                1.0  3 days 03:38:00.000000000              3.151389  \n4                1.0  3 days 04:58:00.000000000              3.206944  \n...              ...                        ...                   ...  \n100125           2.0  3 days 05:31:00.000000000              3.229861  \n100126           1.0  0 days 01:09:00.000000000              0.047917  \n100127           1.0  0 days 19:32:00.000000000              0.813889  \n100128           1.0  5 days 22:34:00.000000000              5.940278  \n100129           1.0  0 days 01:17:00.000000000              0.053472  \n\n[100130 rows x 53 columns]",
      "text/html": "<div>\n<style scoped>\n    .dataframe tbody tr th:only-of-type {\n        vertical-align: middle;\n    }\n\n    .dataframe tbody tr th {\n        vertical-align: top;\n    }\n\n    .dataframe thead th {\n        text-align: right;\n    }\n</style>\n<table border=\"1\" class=\"dataframe\">\n  <thead>\n    <tr style=\"text-align: right;\">\n      <th></th>\n      <th>age_upon_intake_x</th>\n      <th>animal_id</th>\n      <th>animal_type_x</th>\n      <th>breed_x</th>\n      <th>color_x</th>\n      <th>datetime</th>\n      <th>datetime2</th>\n      <th>found_location_x</th>\n      <th>intake_condition_x</th>\n      <th>intake_type_x</th>\n      <th>...</th>\n      <th>age_upon_intake_age_group</th>\n      <th>intake_datetime</th>\n      <th>intake_month</th>\n      <th>intake_year</th>\n      <th>intake_monthyear</th>\n      <th>intake_weekday</th>\n      <th>intake_hour</th>\n      <th>intake_number</th>\n      <th>time_in_shelter</th>\n      <th>time_in_shelter_days</th>\n    </tr>\n  </thead>\n  <tbody>\n    <tr>\n      <th>0</th>\n      <td>8 years</td>\n      <td>A706918</td>\n      <td>Dog</td>\n      <td>English Springer Spaniel</td>\n      <td>White/Liver</td>\n      <td>2015-07-05T12:59:00.000</td>\n      <td>2015-07-05T12:59:00.000</td>\n      <td>9409 Bluegrass Dr in Austin (TX)</td>\n      <td>Normal</td>\n      <td>Stray</td>\n      <td>...</td>\n      <td>(7.5, 10.0]</td>\n      <td>2015-07-05 12:59:00</td>\n      <td>7</td>\n      <td>2015</td>\n      <td>2015-07</td>\n      <td>Sunday</td>\n      <td>12</td>\n      <td>1.0</td>\n      <td>0 days 02:14:00.000000000</td>\n      <td>0.093056</td>\n    </tr>\n    <tr>\n      <th>1</th>\n      <td>11 months</td>\n      <td>A724273</td>\n      <td>Dog</td>\n      <td>Basenji Mix</td>\n      <td>Sable/White</td>\n      <td>2016-04-14T18:43:00.000</td>\n      <td>2016-04-14T18:43:00.000</td>\n      <td>2818 Palomino Trail in Austin (TX)</td>\n      <td>Normal</td>\n      <td>Stray</td>\n      <td>...</td>\n      <td>(-0.025, 2.5]</td>\n      <td>2016-04-14 18:43:00</td>\n      <td>4</td>\n      <td>2016</td>\n      <td>2016-04</td>\n      <td>Thursday</td>\n      <td>18</td>\n      <td>1.0</td>\n      <td>6 days 22:34:00.000000000</td>\n      <td>6.940278</td>\n    </tr>\n    <tr>\n      <th>2</th>\n      <td>4 weeks</td>\n      <td>A665644</td>\n      <td>Cat</td>\n      <td>Domestic Shorthair Mix</td>\n      <td>Calico</td>\n      <td>2013-10-21T07:59:00.000</td>\n      <td>2013-10-21T07:59:00.000</td>\n      <td>Austin (TX)</td>\n      <td>Sick</td>\n      <td>Stray</td>\n      <td>...</td>\n      <td>(-0.025, 2.5]</td>\n      <td>2013-10-21 07:59:00</td>\n      <td>10</td>\n      <td>2013</td>\n      <td>2013-10</td>\n      <td>Monday</td>\n      <td>7</td>\n      <td>1.0</td>\n      <td>0 days 03:40:00.000000000</td>\n      <td>0.152778</td>\n    </tr>\n    <tr>\n      <th>3</th>\n      <td>4 years</td>\n      <td>A682524</td>\n      <td>Dog</td>\n      <td>Doberman Pinsch/Australian Cattle Dog</td>\n      <td>Tan/Gray</td>\n      <td>2014-06-29T10:38:00.000</td>\n      <td>2014-06-29T10:38:00.000</td>\n      <td>800 Grove Blvd in Austin (TX)</td>\n      <td>Normal</td>\n      <td>Stray</td>\n      <td>...</td>\n      <td>(2.5, 5.0]</td>\n      <td>2014-06-29 10:38:00</td>\n      <td>6</td>\n      <td>2014</td>\n      <td>2014-06</td>\n      <td>Sunday</td>\n      <td>10</td>\n      <td>1.0</td>\n      <td>3 days 03:38:00.000000000</td>\n      <td>3.151389</td>\n    </tr>\n    <tr>\n      <th>4</th>\n      <td>2 years</td>\n      <td>A743852</td>\n      <td>Dog</td>\n      <td>Labrador Retriever Mix</td>\n      <td>Chocolate</td>\n      <td>2017-02-18T12:46:00.000</td>\n      <td>2017-02-18T12:46:00.000</td>\n      <td>Austin (TX)</td>\n      <td>Normal</td>\n      <td>Owner Surrender</td>\n      <td>...</td>\n      <td>(-0.025, 2.5]</td>\n      <td>2017-02-18 12:46:00</td>\n      <td>2</td>\n      <td>2017</td>\n      <td>2017-02</td>\n      <td>Saturday</td>\n      <td>12</td>\n      <td>1.0</td>\n      <td>3 days 04:58:00.000000000</td>\n      <td>3.206944</td>\n    </tr>\n    <tr>\n      <th>...</th>\n      <td>...</td>\n      <td>...</td>\n      <td>...</td>\n      <td>...</td>\n      <td>...</td>\n      <td>...</td>\n      <td>...</td>\n      <td>...</td>\n      <td>...</td>\n      <td>...</td>\n      <td>...</td>\n      <td>...</td>\n      <td>...</td>\n      <td>...</td>\n      <td>...</td>\n      <td>...</td>\n      <td>...</td>\n      <td>...</td>\n      <td>...</td>\n      <td>...</td>\n      <td>...</td>\n    </tr>\n    <tr>\n      <th>100125</th>\n      <td>5 months</td>\n      <td>A763562</td>\n      <td>Dog</td>\n      <td>Chihuahua Shorthair Mix</td>\n      <td>Cream</td>\n      <td>2018-03-17T14:59:00.000</td>\n      <td>2018-03-17T14:59:00.000</td>\n      <td>Austin (TX)</td>\n      <td>Normal</td>\n      <td>Owner Surrender</td>\n      <td>...</td>\n      <td>(-0.025, 2.5]</td>\n      <td>2017-12-11 11:04:00</td>\n      <td>12</td>\n      <td>2017</td>\n      <td>2017-12</td>\n      <td>Monday</td>\n      <td>11</td>\n      <td>2.0</td>\n      <td>3 days 05:31:00.000000000</td>\n      <td>3.229861</td>\n    </tr>\n    <tr>\n      <th>100126</th>\n      <td>1 year</td>\n      <td>A769065</td>\n      <td>Other</td>\n      <td>Bat Mix</td>\n      <td>Brown</td>\n      <td>2018-03-29T17:19:00.000</td>\n      <td>2018-03-29T17:19:00.000</td>\n      <td>1122 Walton Ln in Austin (TX)</td>\n      <td>Normal</td>\n      <td>Wildlife</td>\n      <td>...</td>\n      <td>(-0.025, 2.5]</td>\n      <td>2018-03-29 17:19:00</td>\n      <td>3</td>\n      <td>2018</td>\n      <td>2018-03</td>\n      <td>Thursday</td>\n      <td>17</td>\n      <td>1.0</td>\n      <td>0 days 01:09:00.000000000</td>\n      <td>0.047917</td>\n    </tr>\n    <tr>\n      <th>100127</th>\n      <td>10 years</td>\n      <td>A769067</td>\n      <td>Dog</td>\n      <td>Boxer Mix</td>\n      <td>Brown Brindle</td>\n      <td>2018-03-29T18:20:00.000</td>\n      <td>2018-03-29T18:20:00.000</td>\n      <td>11216 Jollyville Rd 216 in Austin (TX)</td>\n      <td>Aged</td>\n      <td>Stray</td>\n      <td>...</td>\n      <td>(7.5, 10.0]</td>\n      <td>2018-03-29 18:20:00</td>\n      <td>3</td>\n      <td>2018</td>\n      <td>2018-03</td>\n      <td>Thursday</td>\n      <td>18</td>\n      <td>1.0</td>\n      <td>0 days 19:32:00.000000000</td>\n      <td>0.813889</td>\n    </tr>\n    <tr>\n      <th>100128</th>\n      <td>5 years</td>\n      <td>A768934</td>\n      <td>Dog</td>\n      <td>Dachshund Wirehair/Chihuahua Shorthair</td>\n      <td>Chocolate/White</td>\n      <td>2018-03-27T14:27:00.000</td>\n      <td>2018-03-27T14:27:00.000</td>\n      <td>603 West Johanna Street in Austin (TX)</td>\n      <td>Normal</td>\n      <td>Stray</td>\n      <td>...</td>\n      <td>(2.5, 5.0]</td>\n      <td>2018-03-27 14:27:00</td>\n      <td>3</td>\n      <td>2018</td>\n      <td>2018-03</td>\n      <td>Tuesday</td>\n      <td>14</td>\n      <td>1.0</td>\n      <td>5 days 22:34:00.000000000</td>\n      <td>5.940278</td>\n    </tr>\n    <tr>\n      <th>100129</th>\n      <td>2 years</td>\n      <td>A769064</td>\n      <td>Other</td>\n      <td>Bat Mix</td>\n      <td>Brown</td>\n      <td>2018-03-29T17:13:00.000</td>\n      <td>2018-03-29T17:13:00.000</td>\n      <td>2519 Scarbrough Dr in Travis (TX)</td>\n      <td>Normal</td>\n      <td>Wildlife</td>\n      <td>...</td>\n      <td>(-0.025, 2.5]</td>\n      <td>2018-03-29 17:13:00</td>\n      <td>3</td>\n      <td>2018</td>\n      <td>2018-03</td>\n      <td>Thursday</td>\n      <td>17</td>\n      <td>1.0</td>\n      <td>0 days 01:17:00.000000000</td>\n      <td>0.053472</td>\n    </tr>\n  </tbody>\n</table>\n<p>100130 rows × 53 columns</p>\n</div>"
     },
     "execution_count": 152,
     "metadata": {},
     "output_type": "execute_result"
    }
   ],
   "source": [
    "all_intakes = intake.merge(intakes_outcomes, left_on=['animal_id'], right_on=['animal_id_intake'])\n",
    "all_intakes"
   ],
   "metadata": {
    "collapsed": false,
    "pycharm": {
     "name": "#%%\n"
    }
   }
  },
  {
   "cell_type": "code",
   "execution_count": 153,
   "outputs": [
    {
     "data": {
      "text/plain": "array(['9409 Bluegrass Dr in Austin (TX)',\n       '2818 Palomino Trail in Austin (TX)', 'Austin (TX)', ...,\n       '1122 Walton Ln in Austin (TX)',\n       '11216 Jollyville Rd 216 in Austin (TX)',\n       '2519 Scarbrough Dr in Travis (TX)'], dtype=object)"
     },
     "execution_count": 153,
     "metadata": {},
     "output_type": "execute_result"
    }
   ],
   "source": [
    "all_intakes['found_location_x'].unique()"
   ],
   "metadata": {
    "collapsed": false,
    "pycharm": {
     "name": "#%%\n"
    }
   }
  },
  {
   "cell_type": "code",
   "execution_count": 154,
   "outputs": [],
   "source": [
    "#locations = intake['found_location'].unique()\n",
    "#main_area = []\n",
    "#max = []\n",
    "#a = 0\n",
    "#for lc in locations:\n",
    "    #if len(max) < 5:\n",
    "        #max.append(len(all_intakes.loc[all_intakes['found_location_x'] == lc,]))\n",
    "        #main_area.append(lc)\n",
    "    #elif len(max) == 5:\n",
    "        #max.append(len(all_intakes.loc[all_intakes['found_location_x'] == lc,]))\n",
    "        #main_area.append(lc)\n",
    "        #a = max.index(min(max))\n",
    "        #max.remove(min(max))\n",
    "        #main_area.remove(main_area[a])\n",
    "#print(f'The five areas where more pets are found are \\033[1m{main_area}\\033[1m')"
   ],
   "metadata": {
    "collapsed": false,
    "pycharm": {
     "name": "#%%\n"
    }
   }
  },
  {
   "cell_type": "markdown",
   "source": [
    "QUESTION 02: What is the average number of pets found in a month in the year 2015? Are there months where there is a higher number of animals found?"
   ],
   "metadata": {
    "collapsed": false,
    "pycharm": {
     "name": "#%% md\n"
    }
   }
  },
  {
   "cell_type": "code",
   "execution_count": 155,
   "outputs": [
    {
     "data": {
      "text/plain": "age_upon_intake             object\nanimal_id                   object\nanimal_type                 object\nbreed                       object\ncolor                       object\ndatetime            datetime64[ns]\ndatetime2                   object\nfound_location              object\nintake_condition            object\nintake_type                 object\nname                        object\nsex_upon_intake             object\ndtype: object"
     },
     "execution_count": 155,
     "metadata": {},
     "output_type": "execute_result"
    }
   ],
   "source": [
    "intake['datetime'] = pd.to_datetime(intake['datetime'])\n",
    "intake.dtypes"
   ],
   "metadata": {
    "collapsed": false,
    "pycharm": {
     "name": "#%%\n"
    }
   }
  },
  {
   "cell_type": "code",
   "execution_count": 188,
   "outputs": [
    {
     "data": {
      "text/plain": "      age_upon_intake animal_id animal_type                      breed  \\\n31988          1 year   A718503         Dog       Miniature Poodle Mix   \n51608         8 years   A718502         Dog               Pit Bull Mix   \n67752          1 year   A703506         Dog               Pit Bull Mix   \n70419          1 year   A718501         Dog  Australian Cattle Dog Mix   \n10735          1 year   A718498         Dog     Labrador Retriever Mix   \n...               ...       ...         ...                        ...   \n1255          3 years   A694638         Dog       Miniature Poodle Mix   \n62211         6 years   A694637         Dog            German Shepherd   \n23223         5 years   A694631         Dog                  Boxer Mix   \n20925         1 month   A694630         Dog               Pit Bull Mix   \n20493        2 months   A694626         Dog    Australian Shepherd Mix   \n\n                     color            datetime                datetime2  \\\n31988                White 2015-12-31 21:45:00  2015-12-31T21:45:00.000   \n51608  Brown Brindle/White 2015-12-31 16:05:00  2015-12-31T16:05:00.000   \n67752        Brown Brindle 2015-12-31 15:44:00  2015-12-31T15:44:00.000   \n70419          Black/White 2015-12-31 15:08:00  2015-12-31T15:08:00.000   \n10735                Black 2015-12-31 15:04:00  2015-12-31T15:04:00.000   \n...                    ...                 ...                      ...   \n1255                 White 2015-01-01 12:07:00  2015-01-01T12:07:00.000   \n62211          Black/Brown 2015-01-01 12:00:00  2015-01-01T12:00:00.000   \n23223          Brown/White 2015-01-01 11:23:00  2015-01-01T11:23:00.000   \n20925          Brown/White 2015-01-01 11:18:00  2015-01-01T11:18:00.000   \n20493          White/Cream 2015-01-01 10:53:00  2015-01-01T10:53:00.000   \n\n                                         found_location intake_condition  \\\n31988                 Ih 35 & Tech Ridge in Austin (TX)           Normal   \n51608                   4802 Brook Creek in Austin (TX)           Normal   \n67752                              Outside Jurisdiction           Normal   \n70419             Water Ave And S 1St St in Austin (TX)           Normal   \n10735                                       Austin (TX)           Normal   \n...                                                 ...              ...   \n1255                        Brantley Bnd in Austin (TX)           Normal   \n62211                       7900 Thaxton in Austin (TX)           Normal   \n23223  Gattis School Rd & Red Bud Ln in Round Rock (TX)           Normal   \n20925                 7201 Levander Loop in Austin (TX)           Normal   \n20493            Ganymede Dr & Europa Ln in Austin (TX)           Normal   \n\n           intake_type          name sex_upon_intake  \n31988            Stray     *Johannes     Intact Male  \n51608            Stray       Whiskey   Neutered Male  \n67752  Owner Surrender          Nala   Spayed Female  \n70419            Stray  *Hank Cowdog     Intact Male  \n10735  Owner Surrender     Snoop Dog     Intact Male  \n...                ...           ...             ...  \n1255             Stray       Ralphie     Intact Male  \n62211            Stray      *Cruiser     Intact Male  \n23223            Stray    Night Wing   Neutered Male  \n20925            Stray   *King Bacon     Intact Male  \n20493            Stray        *Nikki     Intact Male  \n\n[18712 rows x 12 columns]",
      "text/html": "<div>\n<style scoped>\n    .dataframe tbody tr th:only-of-type {\n        vertical-align: middle;\n    }\n\n    .dataframe tbody tr th {\n        vertical-align: top;\n    }\n\n    .dataframe thead th {\n        text-align: right;\n    }\n</style>\n<table border=\"1\" class=\"dataframe\">\n  <thead>\n    <tr style=\"text-align: right;\">\n      <th></th>\n      <th>age_upon_intake</th>\n      <th>animal_id</th>\n      <th>animal_type</th>\n      <th>breed</th>\n      <th>color</th>\n      <th>datetime</th>\n      <th>datetime2</th>\n      <th>found_location</th>\n      <th>intake_condition</th>\n      <th>intake_type</th>\n      <th>name</th>\n      <th>sex_upon_intake</th>\n    </tr>\n  </thead>\n  <tbody>\n    <tr>\n      <th>31988</th>\n      <td>1 year</td>\n      <td>A718503</td>\n      <td>Dog</td>\n      <td>Miniature Poodle Mix</td>\n      <td>White</td>\n      <td>2015-12-31 21:45:00</td>\n      <td>2015-12-31T21:45:00.000</td>\n      <td>Ih 35 &amp; Tech Ridge in Austin (TX)</td>\n      <td>Normal</td>\n      <td>Stray</td>\n      <td>*Johannes</td>\n      <td>Intact Male</td>\n    </tr>\n    <tr>\n      <th>51608</th>\n      <td>8 years</td>\n      <td>A718502</td>\n      <td>Dog</td>\n      <td>Pit Bull Mix</td>\n      <td>Brown Brindle/White</td>\n      <td>2015-12-31 16:05:00</td>\n      <td>2015-12-31T16:05:00.000</td>\n      <td>4802 Brook Creek in Austin (TX)</td>\n      <td>Normal</td>\n      <td>Stray</td>\n      <td>Whiskey</td>\n      <td>Neutered Male</td>\n    </tr>\n    <tr>\n      <th>67752</th>\n      <td>1 year</td>\n      <td>A703506</td>\n      <td>Dog</td>\n      <td>Pit Bull Mix</td>\n      <td>Brown Brindle</td>\n      <td>2015-12-31 15:44:00</td>\n      <td>2015-12-31T15:44:00.000</td>\n      <td>Outside Jurisdiction</td>\n      <td>Normal</td>\n      <td>Owner Surrender</td>\n      <td>Nala</td>\n      <td>Spayed Female</td>\n    </tr>\n    <tr>\n      <th>70419</th>\n      <td>1 year</td>\n      <td>A718501</td>\n      <td>Dog</td>\n      <td>Australian Cattle Dog Mix</td>\n      <td>Black/White</td>\n      <td>2015-12-31 15:08:00</td>\n      <td>2015-12-31T15:08:00.000</td>\n      <td>Water Ave And S 1St St in Austin (TX)</td>\n      <td>Normal</td>\n      <td>Stray</td>\n      <td>*Hank Cowdog</td>\n      <td>Intact Male</td>\n    </tr>\n    <tr>\n      <th>10735</th>\n      <td>1 year</td>\n      <td>A718498</td>\n      <td>Dog</td>\n      <td>Labrador Retriever Mix</td>\n      <td>Black</td>\n      <td>2015-12-31 15:04:00</td>\n      <td>2015-12-31T15:04:00.000</td>\n      <td>Austin (TX)</td>\n      <td>Normal</td>\n      <td>Owner Surrender</td>\n      <td>Snoop Dog</td>\n      <td>Intact Male</td>\n    </tr>\n    <tr>\n      <th>...</th>\n      <td>...</td>\n      <td>...</td>\n      <td>...</td>\n      <td>...</td>\n      <td>...</td>\n      <td>...</td>\n      <td>...</td>\n      <td>...</td>\n      <td>...</td>\n      <td>...</td>\n      <td>...</td>\n      <td>...</td>\n    </tr>\n    <tr>\n      <th>1255</th>\n      <td>3 years</td>\n      <td>A694638</td>\n      <td>Dog</td>\n      <td>Miniature Poodle Mix</td>\n      <td>White</td>\n      <td>2015-01-01 12:07:00</td>\n      <td>2015-01-01T12:07:00.000</td>\n      <td>Brantley Bnd in Austin (TX)</td>\n      <td>Normal</td>\n      <td>Stray</td>\n      <td>Ralphie</td>\n      <td>Intact Male</td>\n    </tr>\n    <tr>\n      <th>62211</th>\n      <td>6 years</td>\n      <td>A694637</td>\n      <td>Dog</td>\n      <td>German Shepherd</td>\n      <td>Black/Brown</td>\n      <td>2015-01-01 12:00:00</td>\n      <td>2015-01-01T12:00:00.000</td>\n      <td>7900 Thaxton in Austin (TX)</td>\n      <td>Normal</td>\n      <td>Stray</td>\n      <td>*Cruiser</td>\n      <td>Intact Male</td>\n    </tr>\n    <tr>\n      <th>23223</th>\n      <td>5 years</td>\n      <td>A694631</td>\n      <td>Dog</td>\n      <td>Boxer Mix</td>\n      <td>Brown/White</td>\n      <td>2015-01-01 11:23:00</td>\n      <td>2015-01-01T11:23:00.000</td>\n      <td>Gattis School Rd &amp; Red Bud Ln in Round Rock (TX)</td>\n      <td>Normal</td>\n      <td>Stray</td>\n      <td>Night Wing</td>\n      <td>Neutered Male</td>\n    </tr>\n    <tr>\n      <th>20925</th>\n      <td>1 month</td>\n      <td>A694630</td>\n      <td>Dog</td>\n      <td>Pit Bull Mix</td>\n      <td>Brown/White</td>\n      <td>2015-01-01 11:18:00</td>\n      <td>2015-01-01T11:18:00.000</td>\n      <td>7201 Levander Loop in Austin (TX)</td>\n      <td>Normal</td>\n      <td>Stray</td>\n      <td>*King Bacon</td>\n      <td>Intact Male</td>\n    </tr>\n    <tr>\n      <th>20493</th>\n      <td>2 months</td>\n      <td>A694626</td>\n      <td>Dog</td>\n      <td>Australian Shepherd Mix</td>\n      <td>White/Cream</td>\n      <td>2015-01-01 10:53:00</td>\n      <td>2015-01-01T10:53:00.000</td>\n      <td>Ganymede Dr &amp; Europa Ln in Austin (TX)</td>\n      <td>Normal</td>\n      <td>Stray</td>\n      <td>*Nikki</td>\n      <td>Intact Male</td>\n    </tr>\n  </tbody>\n</table>\n<p>18712 rows × 12 columns</p>\n</div>"
     },
     "execution_count": 188,
     "metadata": {},
     "output_type": "execute_result"
    }
   ],
   "source": [
    "intake_15 = intake[intake['datetime'] >= datetime.datetime(2015,1,1)].sort_values(by=['datetime'], ascending=False)[38637:]\n",
    "intake_15"
   ],
   "metadata": {
    "collapsed": false,
    "pycharm": {
     "name": "#%%\n"
    }
   }
  },
  {
   "cell_type": "code",
   "execution_count": 194,
   "outputs": [
    {
     "data": {
      "text/plain": "      age_upon_intake animal_id animal_type  \\\n19924         2 years   A692995         Dog   \n63580        11 years   A696243         Cat   \n3730         10 years   A696064         Dog   \n67620         3 years   A696241         Dog   \n31540         6 years   A696240         Dog   \n...               ...       ...         ...   \n1255          3 years   A694638         Dog   \n62211         6 years   A694637         Dog   \n23223         5 years   A694631         Dog   \n20925         1 month   A694630         Dog   \n20493        2 months   A694626         Dog   \n\n                                    breed              color  \\\n19924  American Staffordshire Terrier Mix        Black/White   \n63580              Domestic Shorthair Mix  Brown Tabby/White   \n3730             Jack Russell Terrier Mix        White/Brown   \n67620             Chihuahua Shorthair Mix          Tan/Cream   \n31540                Beagle/Staffordshire              White   \n...                                   ...                ...   \n1255                 Miniature Poodle Mix              White   \n62211                     German Shepherd        Black/Brown   \n23223                           Boxer Mix        Brown/White   \n20925                        Pit Bull Mix        Brown/White   \n20493             Australian Shepherd Mix        White/Cream   \n\n                 datetime                datetime2  \\\n19924 2015-01-31 18:26:00  2015-01-31T18:26:00.000   \n63580 2015-01-31 17:31:00  2015-01-31T17:31:00.000   \n3730  2015-01-31 17:03:00  2015-01-31T17:03:00.000   \n67620 2015-01-31 16:49:00  2015-01-31T16:49:00.000   \n31540 2015-01-31 16:40:00  2015-01-31T16:40:00.000   \n...                   ...                      ...   \n1255  2015-01-01 12:07:00  2015-01-01T12:07:00.000   \n62211 2015-01-01 12:00:00  2015-01-01T12:00:00.000   \n23223 2015-01-01 11:23:00  2015-01-01T11:23:00.000   \n20925 2015-01-01 11:18:00  2015-01-01T11:18:00.000   \n20493 2015-01-01 10:53:00  2015-01-01T10:53:00.000   \n\n                                         found_location intake_condition  \\\n19924                                       Austin (TX)           Normal   \n63580                                       Austin (TX)           Normal   \n3730                                        Austin (TX)           Normal   \n67620              2Nd And Pedernales St in Austin (TX)           Normal   \n31540      Wilcab Rd And Bluestein Drive in Austin (TX)           Normal   \n...                                                 ...              ...   \n1255                        Brantley Bnd in Austin (TX)           Normal   \n62211                       7900 Thaxton in Austin (TX)           Normal   \n23223  Gattis School Rd & Red Bud Ln in Round Rock (TX)           Normal   \n20925                 7201 Levander Loop in Austin (TX)           Normal   \n20493            Ganymede Dr & Europa Ln in Austin (TX)           Normal   \n\n           intake_type         name sex_upon_intake  \n19924  Owner Surrender        Rouge   Spayed Female  \n63580  Owner Surrender     *Weebles   Spayed Female  \n3730     Public Assist        Petey   Neutered Male  \n67620            Stray       Marley   Neutered Male  \n31540            Stray        Siren   Intact Female  \n...                ...          ...             ...  \n1255             Stray      Ralphie     Intact Male  \n62211            Stray     *Cruiser     Intact Male  \n23223            Stray   Night Wing   Neutered Male  \n20925            Stray  *King Bacon     Intact Male  \n20493            Stray       *Nikki     Intact Male  \n\n[1198 rows x 12 columns]",
      "text/html": "<div>\n<style scoped>\n    .dataframe tbody tr th:only-of-type {\n        vertical-align: middle;\n    }\n\n    .dataframe tbody tr th {\n        vertical-align: top;\n    }\n\n    .dataframe thead th {\n        text-align: right;\n    }\n</style>\n<table border=\"1\" class=\"dataframe\">\n  <thead>\n    <tr style=\"text-align: right;\">\n      <th></th>\n      <th>age_upon_intake</th>\n      <th>animal_id</th>\n      <th>animal_type</th>\n      <th>breed</th>\n      <th>color</th>\n      <th>datetime</th>\n      <th>datetime2</th>\n      <th>found_location</th>\n      <th>intake_condition</th>\n      <th>intake_type</th>\n      <th>name</th>\n      <th>sex_upon_intake</th>\n    </tr>\n  </thead>\n  <tbody>\n    <tr>\n      <th>19924</th>\n      <td>2 years</td>\n      <td>A692995</td>\n      <td>Dog</td>\n      <td>American Staffordshire Terrier Mix</td>\n      <td>Black/White</td>\n      <td>2015-01-31 18:26:00</td>\n      <td>2015-01-31T18:26:00.000</td>\n      <td>Austin (TX)</td>\n      <td>Normal</td>\n      <td>Owner Surrender</td>\n      <td>Rouge</td>\n      <td>Spayed Female</td>\n    </tr>\n    <tr>\n      <th>63580</th>\n      <td>11 years</td>\n      <td>A696243</td>\n      <td>Cat</td>\n      <td>Domestic Shorthair Mix</td>\n      <td>Brown Tabby/White</td>\n      <td>2015-01-31 17:31:00</td>\n      <td>2015-01-31T17:31:00.000</td>\n      <td>Austin (TX)</td>\n      <td>Normal</td>\n      <td>Owner Surrender</td>\n      <td>*Weebles</td>\n      <td>Spayed Female</td>\n    </tr>\n    <tr>\n      <th>3730</th>\n      <td>10 years</td>\n      <td>A696064</td>\n      <td>Dog</td>\n      <td>Jack Russell Terrier Mix</td>\n      <td>White/Brown</td>\n      <td>2015-01-31 17:03:00</td>\n      <td>2015-01-31T17:03:00.000</td>\n      <td>Austin (TX)</td>\n      <td>Normal</td>\n      <td>Public Assist</td>\n      <td>Petey</td>\n      <td>Neutered Male</td>\n    </tr>\n    <tr>\n      <th>67620</th>\n      <td>3 years</td>\n      <td>A696241</td>\n      <td>Dog</td>\n      <td>Chihuahua Shorthair Mix</td>\n      <td>Tan/Cream</td>\n      <td>2015-01-31 16:49:00</td>\n      <td>2015-01-31T16:49:00.000</td>\n      <td>2Nd And Pedernales St in Austin (TX)</td>\n      <td>Normal</td>\n      <td>Stray</td>\n      <td>Marley</td>\n      <td>Neutered Male</td>\n    </tr>\n    <tr>\n      <th>31540</th>\n      <td>6 years</td>\n      <td>A696240</td>\n      <td>Dog</td>\n      <td>Beagle/Staffordshire</td>\n      <td>White</td>\n      <td>2015-01-31 16:40:00</td>\n      <td>2015-01-31T16:40:00.000</td>\n      <td>Wilcab Rd And Bluestein Drive in Austin (TX)</td>\n      <td>Normal</td>\n      <td>Stray</td>\n      <td>Siren</td>\n      <td>Intact Female</td>\n    </tr>\n    <tr>\n      <th>...</th>\n      <td>...</td>\n      <td>...</td>\n      <td>...</td>\n      <td>...</td>\n      <td>...</td>\n      <td>...</td>\n      <td>...</td>\n      <td>...</td>\n      <td>...</td>\n      <td>...</td>\n      <td>...</td>\n      <td>...</td>\n    </tr>\n    <tr>\n      <th>1255</th>\n      <td>3 years</td>\n      <td>A694638</td>\n      <td>Dog</td>\n      <td>Miniature Poodle Mix</td>\n      <td>White</td>\n      <td>2015-01-01 12:07:00</td>\n      <td>2015-01-01T12:07:00.000</td>\n      <td>Brantley Bnd in Austin (TX)</td>\n      <td>Normal</td>\n      <td>Stray</td>\n      <td>Ralphie</td>\n      <td>Intact Male</td>\n    </tr>\n    <tr>\n      <th>62211</th>\n      <td>6 years</td>\n      <td>A694637</td>\n      <td>Dog</td>\n      <td>German Shepherd</td>\n      <td>Black/Brown</td>\n      <td>2015-01-01 12:00:00</td>\n      <td>2015-01-01T12:00:00.000</td>\n      <td>7900 Thaxton in Austin (TX)</td>\n      <td>Normal</td>\n      <td>Stray</td>\n      <td>*Cruiser</td>\n      <td>Intact Male</td>\n    </tr>\n    <tr>\n      <th>23223</th>\n      <td>5 years</td>\n      <td>A694631</td>\n      <td>Dog</td>\n      <td>Boxer Mix</td>\n      <td>Brown/White</td>\n      <td>2015-01-01 11:23:00</td>\n      <td>2015-01-01T11:23:00.000</td>\n      <td>Gattis School Rd &amp; Red Bud Ln in Round Rock (TX)</td>\n      <td>Normal</td>\n      <td>Stray</td>\n      <td>Night Wing</td>\n      <td>Neutered Male</td>\n    </tr>\n    <tr>\n      <th>20925</th>\n      <td>1 month</td>\n      <td>A694630</td>\n      <td>Dog</td>\n      <td>Pit Bull Mix</td>\n      <td>Brown/White</td>\n      <td>2015-01-01 11:18:00</td>\n      <td>2015-01-01T11:18:00.000</td>\n      <td>7201 Levander Loop in Austin (TX)</td>\n      <td>Normal</td>\n      <td>Stray</td>\n      <td>*King Bacon</td>\n      <td>Intact Male</td>\n    </tr>\n    <tr>\n      <th>20493</th>\n      <td>2 months</td>\n      <td>A694626</td>\n      <td>Dog</td>\n      <td>Australian Shepherd Mix</td>\n      <td>White/Cream</td>\n      <td>2015-01-01 10:53:00</td>\n      <td>2015-01-01T10:53:00.000</td>\n      <td>Ganymede Dr &amp; Europa Ln in Austin (TX)</td>\n      <td>Normal</td>\n      <td>Stray</td>\n      <td>*Nikki</td>\n      <td>Intact Male</td>\n    </tr>\n  </tbody>\n</table>\n<p>1198 rows × 12 columns</p>\n</div>"
     },
     "execution_count": 194,
     "metadata": {},
     "output_type": "execute_result"
    }
   ],
   "source": [
    "intake_january = intake_15[intake_15['datetime'] <= datetime.datetime(2015,2,1)]\n",
    "intake_january"
   ],
   "metadata": {
    "collapsed": false,
    "pycharm": {
     "name": "#%%\n"
    }
   }
  }
 ],
 "metadata": {
  "kernelspec": {
   "display_name": "Python 3",
   "language": "python",
   "name": "python3"
  },
  "language_info": {
   "codemirror_mode": {
    "name": "ipython",
    "version": 2
   },
   "file_extension": ".py",
   "mimetype": "text/x-python",
   "name": "python",
   "nbconvert_exporter": "python",
   "pygments_lexer": "ipython2",
   "version": "2.7.6"
  }
 },
 "nbformat": 4,
 "nbformat_minor": 0
}