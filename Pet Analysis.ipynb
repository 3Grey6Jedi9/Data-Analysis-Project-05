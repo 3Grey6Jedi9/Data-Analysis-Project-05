{
 "cells": [
  {
   "cell_type": "code",
   "execution_count": 3,
   "metadata": {
    "collapsed": true,
    "pycharm": {
     "name": "#%%\n"
    }
   },
   "outputs": [],
   "source": [
    "import pandas as pd\n",
    "import numpy as np\n",
    "import datetime\n",
    "import matplotlib.pyplot as plt\n",
    "\n",
    "intake = pd.read_csv('aac_intakes.csv')\n",
    "intakes_outcomes = pd.read_csv('aac_intakes_outcomes.csv')\n",
    "outcomes = pd.read_csv('aac_outcomes.csv')"
   ]
  },
  {
   "cell_type": "markdown",
   "source": [
    "1) Is there an area where more pets are found?"
   ],
   "metadata": {
    "collapsed": false,
    "pycharm": {
     "name": "#%% md\n"
    }
   }
  },
  {
   "cell_type": "code",
   "execution_count": 6,
   "outputs": [
    {
     "data": {
      "text/plain": "found_location\nAustin (TX)                          14443\nOutside Jurisdiction                   948\nTravis (TX)                            921\n7201 Levander Loop in Austin (TX)      517\nDel Valle (TX)                         411\ndtype: int64"
     },
     "execution_count": 6,
     "metadata": {},
     "output_type": "execute_result"
    }
   ],
   "source": [
    "intake.value_counts('found_location').head(5)"
   ],
   "metadata": {
    "collapsed": false,
    "pycharm": {
     "name": "#%%\n"
    }
   }
  },
  {
   "cell_type": "markdown",
   "source": [],
   "metadata": {
    "collapsed": false,
    "pycharm": {
     "name": "#%% md\n"
    }
   }
  },
  {
   "cell_type": "markdown",
   "source": [
    "QUESTION 02: What is the average number of pets found in a month in the year 2015? Are there months where there is a higher number of animals found?"
   ],
   "metadata": {
    "collapsed": false,
    "pycharm": {
     "name": "#%% md\n"
    }
   }
  },
  {
   "cell_type": "code",
   "execution_count": 7,
   "outputs": [],
   "source": [
    "intake['datetime'] = pd.to_datetime(intake['datetime'])"
   ],
   "metadata": {
    "collapsed": false,
    "pycharm": {
     "name": "#%%\n"
    }
   }
  },
  {
   "cell_type": "code",
   "execution_count": 17,
   "outputs": [
    {
     "data": {
      "text/plain": "1559"
     },
     "execution_count": 17,
     "metadata": {},
     "output_type": "execute_result"
    }
   ],
   "source": [
    "intake_15 = intake[(intake['datetime'] >= datetime.datetime(2015,1,1)) & (intake['datetime'] < datetime.datetime(2016,1,1))]\n",
    "number_pets_month = (len(intake_15) / 12).__round__()\n",
    "number_pets_month"
   ],
   "metadata": {
    "collapsed": false,
    "pycharm": {
     "name": "#%%\n"
    }
   }
  },
  {
   "cell_type": "code",
   "execution_count": 16,
   "outputs": [
    {
     "data": {
      "text/plain": "      age_upon_intake animal_id animal_type                      breed  \\\n0             8 years   A706918         Dog   English Springer Spaniel   \n5             2 years   A708452         Dog     Labrador Retriever Mix   \n8            5 months   A707375         Dog                   Pit Bull   \n9             2 years   A696408         Dog        Chihuahua Shorthair   \n12            4 weeks   A707658         Cat     Domestic Shorthair Mix   \n...               ...       ...         ...                        ...   \n79451         3 weeks   A710038         Cat     Domestic Shorthair Mix   \n79572          1 year   A705821         Dog                  Blue Lacy   \n79766         6 years   A716252         Dog     Labrador Retriever Mix   \n79951         1 month   A705614         Cat      Domestic Longhair Mix   \n79952        4 months   A699742         Dog  Beagle/Labrador Retriever   \n\n             color            datetime                datetime2  \\\n0      White/Liver 2015-07-05 12:59:00  2015-07-05T12:59:00.000   \n5      Black/White 2015-07-30 14:37:00  2015-07-30T14:37:00.000   \n8      Brown/White 2015-07-11 18:19:00  2015-07-11T18:19:00.000   \n9         Tricolor 2015-02-04 12:58:00  2015-02-04T12:58:00.000   \n12     Black/White 2015-07-15 17:43:00  2015-07-15T17:43:00.000   \n...            ...                 ...                      ...   \n79451  Black/White 2015-08-16 12:37:00  2015-08-16T12:37:00.000   \n79572    Brown/Tan 2015-06-21 17:00:00  2015-06-21T17:00:00.000   \n79766        Black 2015-11-17 13:14:00  2015-11-17T13:14:00.000   \n79951   Blue Tabby 2015-06-19 16:31:00  2015-06-19T16:31:00.000   \n79952    Red/White 2015-04-01 17:39:00  2015-04-01T17:39:00.000   \n\n                                     found_location intake_condition  \\\n0                  9409 Bluegrass Dr in Austin (TX)           Normal   \n5                                       Austin (TX)           Normal   \n8      Galilee Court And Damita Jo Dr in Manor (TX)           Normal   \n9                       9705 Thaxton in Austin (TX)           Normal   \n12                      6118 Fairway in Austin (TX)           Normal   \n...                                             ...              ...   \n79451       E Mlk Blvd And Elmira Rd in Austin (TX)           Normal   \n79572     W 45Th St And Guadalupe St in Austin (TX)           Normal   \n79766                  10325 1625 Rd in Travis (TX)           Normal   \n79951                8023 Coulver Rd in Austin (TX)           Normal   \n79952            Grove And Riverside in Austin (TX)           Normal   \n\n         intake_type         name sex_upon_intake  \n0              Stray        Belle   Spayed Female  \n5      Public Assist       Mumble     Intact Male  \n8              Stray  *Candy Cane   Intact Female  \n9              Stray       *Pearl   Intact Female  \n12             Stray        *Mint   Intact Female  \n...              ...          ...             ...  \n79451          Stray          NaN   Intact Female  \n79572          Stray         Theo     Intact Male  \n79766          Stray       Karmen   Intact Female  \n79951          Stray         Blue     Intact Male  \n79952          Stray          Jax     Intact Male  \n\n[18712 rows x 12 columns]",
      "text/html": "<div>\n<style scoped>\n    .dataframe tbody tr th:only-of-type {\n        vertical-align: middle;\n    }\n\n    .dataframe tbody tr th {\n        vertical-align: top;\n    }\n\n    .dataframe thead th {\n        text-align: right;\n    }\n</style>\n<table border=\"1\" class=\"dataframe\">\n  <thead>\n    <tr style=\"text-align: right;\">\n      <th></th>\n      <th>age_upon_intake</th>\n      <th>animal_id</th>\n      <th>animal_type</th>\n      <th>breed</th>\n      <th>color</th>\n      <th>datetime</th>\n      <th>datetime2</th>\n      <th>found_location</th>\n      <th>intake_condition</th>\n      <th>intake_type</th>\n      <th>name</th>\n      <th>sex_upon_intake</th>\n    </tr>\n  </thead>\n  <tbody>\n    <tr>\n      <th>0</th>\n      <td>8 years</td>\n      <td>A706918</td>\n      <td>Dog</td>\n      <td>English Springer Spaniel</td>\n      <td>White/Liver</td>\n      <td>2015-07-05 12:59:00</td>\n      <td>2015-07-05T12:59:00.000</td>\n      <td>9409 Bluegrass Dr in Austin (TX)</td>\n      <td>Normal</td>\n      <td>Stray</td>\n      <td>Belle</td>\n      <td>Spayed Female</td>\n    </tr>\n    <tr>\n      <th>5</th>\n      <td>2 years</td>\n      <td>A708452</td>\n      <td>Dog</td>\n      <td>Labrador Retriever Mix</td>\n      <td>Black/White</td>\n      <td>2015-07-30 14:37:00</td>\n      <td>2015-07-30T14:37:00.000</td>\n      <td>Austin (TX)</td>\n      <td>Normal</td>\n      <td>Public Assist</td>\n      <td>Mumble</td>\n      <td>Intact Male</td>\n    </tr>\n    <tr>\n      <th>8</th>\n      <td>5 months</td>\n      <td>A707375</td>\n      <td>Dog</td>\n      <td>Pit Bull</td>\n      <td>Brown/White</td>\n      <td>2015-07-11 18:19:00</td>\n      <td>2015-07-11T18:19:00.000</td>\n      <td>Galilee Court And Damita Jo Dr in Manor (TX)</td>\n      <td>Normal</td>\n      <td>Stray</td>\n      <td>*Candy Cane</td>\n      <td>Intact Female</td>\n    </tr>\n    <tr>\n      <th>9</th>\n      <td>2 years</td>\n      <td>A696408</td>\n      <td>Dog</td>\n      <td>Chihuahua Shorthair</td>\n      <td>Tricolor</td>\n      <td>2015-02-04 12:58:00</td>\n      <td>2015-02-04T12:58:00.000</td>\n      <td>9705 Thaxton in Austin (TX)</td>\n      <td>Normal</td>\n      <td>Stray</td>\n      <td>*Pearl</td>\n      <td>Intact Female</td>\n    </tr>\n    <tr>\n      <th>12</th>\n      <td>4 weeks</td>\n      <td>A707658</td>\n      <td>Cat</td>\n      <td>Domestic Shorthair Mix</td>\n      <td>Black/White</td>\n      <td>2015-07-15 17:43:00</td>\n      <td>2015-07-15T17:43:00.000</td>\n      <td>6118 Fairway in Austin (TX)</td>\n      <td>Normal</td>\n      <td>Stray</td>\n      <td>*Mint</td>\n      <td>Intact Female</td>\n    </tr>\n    <tr>\n      <th>...</th>\n      <td>...</td>\n      <td>...</td>\n      <td>...</td>\n      <td>...</td>\n      <td>...</td>\n      <td>...</td>\n      <td>...</td>\n      <td>...</td>\n      <td>...</td>\n      <td>...</td>\n      <td>...</td>\n      <td>...</td>\n    </tr>\n    <tr>\n      <th>79451</th>\n      <td>3 weeks</td>\n      <td>A710038</td>\n      <td>Cat</td>\n      <td>Domestic Shorthair Mix</td>\n      <td>Black/White</td>\n      <td>2015-08-16 12:37:00</td>\n      <td>2015-08-16T12:37:00.000</td>\n      <td>E Mlk Blvd And Elmira Rd in Austin (TX)</td>\n      <td>Normal</td>\n      <td>Stray</td>\n      <td>NaN</td>\n      <td>Intact Female</td>\n    </tr>\n    <tr>\n      <th>79572</th>\n      <td>1 year</td>\n      <td>A705821</td>\n      <td>Dog</td>\n      <td>Blue Lacy</td>\n      <td>Brown/Tan</td>\n      <td>2015-06-21 17:00:00</td>\n      <td>2015-06-21T17:00:00.000</td>\n      <td>W 45Th St And Guadalupe St in Austin (TX)</td>\n      <td>Normal</td>\n      <td>Stray</td>\n      <td>Theo</td>\n      <td>Intact Male</td>\n    </tr>\n    <tr>\n      <th>79766</th>\n      <td>6 years</td>\n      <td>A716252</td>\n      <td>Dog</td>\n      <td>Labrador Retriever Mix</td>\n      <td>Black</td>\n      <td>2015-11-17 13:14:00</td>\n      <td>2015-11-17T13:14:00.000</td>\n      <td>10325 1625 Rd in Travis (TX)</td>\n      <td>Normal</td>\n      <td>Stray</td>\n      <td>Karmen</td>\n      <td>Intact Female</td>\n    </tr>\n    <tr>\n      <th>79951</th>\n      <td>1 month</td>\n      <td>A705614</td>\n      <td>Cat</td>\n      <td>Domestic Longhair Mix</td>\n      <td>Blue Tabby</td>\n      <td>2015-06-19 16:31:00</td>\n      <td>2015-06-19T16:31:00.000</td>\n      <td>8023 Coulver Rd in Austin (TX)</td>\n      <td>Normal</td>\n      <td>Stray</td>\n      <td>Blue</td>\n      <td>Intact Male</td>\n    </tr>\n    <tr>\n      <th>79952</th>\n      <td>4 months</td>\n      <td>A699742</td>\n      <td>Dog</td>\n      <td>Beagle/Labrador Retriever</td>\n      <td>Red/White</td>\n      <td>2015-04-01 17:39:00</td>\n      <td>2015-04-01T17:39:00.000</td>\n      <td>Grove And Riverside in Austin (TX)</td>\n      <td>Normal</td>\n      <td>Stray</td>\n      <td>Jax</td>\n      <td>Intact Male</td>\n    </tr>\n  </tbody>\n</table>\n<p>18712 rows × 12 columns</p>\n</div>"
     },
     "execution_count": 16,
     "metadata": {},
     "output_type": "execute_result"
    }
   ],
   "source": [
    "intake_15"
   ],
   "metadata": {
    "collapsed": false,
    "pycharm": {
     "name": "#%%\n"
    }
   }
  },
  {
   "cell_type": "code",
   "execution_count": 18,
   "outputs": [
    {
     "data": {
      "text/plain": "{'February': 2317,\n 'March': 3663,\n 'April': 5206,\n 'May': 7300,\n 'June': 9489,\n 'July': 11124,\n 'August': 12842,\n 'September': 14433,\n 'October': 16173,\n 'November': 17584}"
     },
     "execution_count": 18,
     "metadata": {},
     "output_type": "execute_result"
    }
   ],
   "source": [
    "intake_january = intake_15[intake_15['datetime'] <= datetime.datetime(2015,2,1)]\n",
    "intake_february = intake_15[intake_15['datetime'] < datetime.datetime(2015,3,1)]\n",
    "intake_march = intake_15[intake_15['datetime'] < datetime.datetime(2015,4,1)]\n",
    "intake_april = intake_15[intake_15['datetime'] < datetime.datetime(2015,5,1)]\n",
    "intake_may = intake_15[intake_15['datetime'] < datetime.datetime(2015,6,1)]\n",
    "intake_june = intake_15[intake_15['datetime'] < datetime.datetime(2015,7,1)]\n",
    "intake_july = intake_15[intake_15['datetime'] < datetime.datetime(2015,8,1)]\n",
    "intake_august = intake_15[intake_15['datetime'] < datetime.datetime(2015,9,1)]\n",
    "intake_september = intake_15[intake_15['datetime'] < datetime.datetime(2015,10,1)]\n",
    "intake_october = intake_15[intake_15['datetime'] < datetime.datetime(2015,11,1)]\n",
    "intake_november = intake_15[intake_15['datetime'] < datetime.datetime(2015,12,1)]\n",
    "intake_december = intake_15[intake_15['datetime'] > datetime.datetime(2015,12,1)]\n",
    "lanimals_month = [len(intake_january),len(intake_february), len(intake_march), len(intake_april), len(intake_may),\n",
    "                  len(intake_june), len(intake_july), len(intake_august), len(intake_september),\n",
    "                  len(intake_october), len(intake_november), len(intake_december)]\n",
    "kaniamls_month = {'January': lanimals_month[0], 'February': lanimals_month[1], 'March': lanimals_month[2],\n",
    "                  'April': lanimals_month[3], 'May': lanimals_month[4], 'June': lanimals_month[5],\n",
    "                  'July': lanimals_month[6], 'August': lanimals_month[7], 'September': lanimals_month[8],\n",
    "                  'October':lanimals_month[9], 'November': lanimals_month[10], 'December':lanimals_month[11]}\n",
    "higher_months = {}\n",
    "for k, v in kaniamls_month.items():\n",
    "    if v > number_pets_month:\n",
    "        higher_months[k] = v\n",
    "    else:\n",
    "        continue\n",
    "higher_months"
   ],
   "metadata": {
    "collapsed": false,
    "pycharm": {
     "name": "#%%\n"
    }
   }
  },
  {
   "cell_type": "markdown",
   "source": [
    "QUESTION 03: ratio = incoming_pets/adopted_pets"
   ],
   "metadata": {
    "collapsed": false,
    "pycharm": {
     "name": "#%% md\n"
    }
   }
  },
  {
   "cell_type": "code",
   "execution_count": 262,
   "outputs": [
    {
     "data": {
      "text/plain": "0.994"
     },
     "execution_count": 262,
     "metadata": {},
     "output_type": "execute_result"
    }
   ],
   "source": [
    "incoming_pets = len(intake)\n",
    "adopted_pets = len(outcomes)\n",
    "ratio = incoming_pets/adopted_pets\n",
    "ratio.__round__(3)"
   ],
   "metadata": {
    "collapsed": false,
    "pycharm": {
     "name": "#%%\n"
    }
   }
  },
  {
   "cell_type": "markdown",
   "source": [
    "QUESTION 04: What is the distribution of the types of animals in the shelter?"
   ],
   "metadata": {
    "collapsed": false,
    "pycharm": {
     "name": "#%% md\n"
    }
   }
  },
  {
   "cell_type": "markdown",
   "source": [
    "Most phenomena in the real world are truly random. The normal distribution reflects this."
   ],
   "metadata": {
    "collapsed": false,
    "pycharm": {
     "name": "#%% md\n"
    }
   }
  },
  {
   "cell_type": "markdown",
   "source": [
    "NORMAL DISTRIBUTION: The arguments for the normal distribution are:\n",
    "    loc: Is the mean\n",
    "    scale: Is the square root of the variance, i.e. the standard deviation\n",
    "    size: Is the sample size or the number of trials."
   ],
   "metadata": {
    "collapsed": false,
    "pycharm": {
     "name": "#%% md\n"
    }
   }
  },
  {
   "cell_type": "code",
   "execution_count": 37,
   "outputs": [
    {
     "data": {
      "text/plain": "array(['Dog', 'Cat', 'Other', 'Bird', 'Livestock'], dtype=object)"
     },
     "execution_count": 37,
     "metadata": {},
     "output_type": "execute_result"
    }
   ],
   "source": [
    "type_animals = intake['animal_type'].unique()\n",
    "type_animals"
   ],
   "metadata": {
    "collapsed": false,
    "pycharm": {
     "name": "#%%\n"
    }
   }
  },
  {
   "cell_type": "markdown",
   "source": [
    "So we have 5 different options... I am going to divide the data in 20 lots (5% of the total each). And I am going to get the NORMAL DISTRIBUTION of each animal."
   ],
   "metadata": {
    "collapsed": false,
    "pycharm": {
     "name": "#%% md\n"
    }
   }
  },
  {
   "cell_type": "markdown",
   "source": [
    "DOGs' DISTRIBUTION"
   ],
   "metadata": {
    "collapsed": false,
    "pycharm": {
     "name": "#%% md\n"
    }
   }
  },
  {
   "cell_type": "code",
   "execution_count": 298,
   "outputs": [
    {
     "data": {
      "text/plain": "      age_upon_intake animal_id animal_type                    breed  \\\n80175         1 month   A763562         Dog  Chihuahua Shorthair Mix   \n80176        5 months   A763562         Dog  Chihuahua Shorthair Mix   \n80177         4 years   A701265         Dog             Pit Bull Mix   \n80178         4 years   A722721         Cat   Domestic Shorthair Mix   \n80179         2 years   A769046         Dog  Chihuahua Shorthair Mix   \n\n               color            datetime                datetime2  \\\n80175          Cream 2017-12-11 11:04:00  2017-12-11T11:04:00.000   \n80176          Cream 2018-03-17 14:59:00  2018-03-17T14:59:00.000   \n80177     Blue/White 2018-03-29 17:45:00  2018-03-29T17:45:00.000   \n80178          Black 2018-03-29 17:54:00  2018-03-29T17:54:00.000   \n80179  Brown Brindle 2018-03-29 13:24:00  2018-03-29T13:24:00.000   \n\n                              found_location intake_condition  \\\n80175                            Austin (TX)           Normal   \n80176                            Austin (TX)           Normal   \n80177                            Travis (TX)           Normal   \n80178  1601 Royal Crest Drive in Austin (TX)           Normal   \n80179                            Austin (TX)             Sick   \n\n           intake_type    name sex_upon_intake  \n80175  Owner Surrender  Kuzkoo     Intact Male  \n80176  Owner Surrender  Kuzkoo   Neutered Male  \n80177            Stray    Blue   Neutered Male  \n80178            Stray     NaN   Spayed Female  \n80179  Owner Surrender  *Charm   Spayed Female  ",
      "text/html": "<div>\n<style scoped>\n    .dataframe tbody tr th:only-of-type {\n        vertical-align: middle;\n    }\n\n    .dataframe tbody tr th {\n        vertical-align: top;\n    }\n\n    .dataframe thead th {\n        text-align: right;\n    }\n</style>\n<table border=\"1\" class=\"dataframe\">\n  <thead>\n    <tr style=\"text-align: right;\">\n      <th></th>\n      <th>age_upon_intake</th>\n      <th>animal_id</th>\n      <th>animal_type</th>\n      <th>breed</th>\n      <th>color</th>\n      <th>datetime</th>\n      <th>datetime2</th>\n      <th>found_location</th>\n      <th>intake_condition</th>\n      <th>intake_type</th>\n      <th>name</th>\n      <th>sex_upon_intake</th>\n    </tr>\n  </thead>\n  <tbody>\n    <tr>\n      <th>80175</th>\n      <td>1 month</td>\n      <td>A763562</td>\n      <td>Dog</td>\n      <td>Chihuahua Shorthair Mix</td>\n      <td>Cream</td>\n      <td>2017-12-11 11:04:00</td>\n      <td>2017-12-11T11:04:00.000</td>\n      <td>Austin (TX)</td>\n      <td>Normal</td>\n      <td>Owner Surrender</td>\n      <td>Kuzkoo</td>\n      <td>Intact Male</td>\n    </tr>\n    <tr>\n      <th>80176</th>\n      <td>5 months</td>\n      <td>A763562</td>\n      <td>Dog</td>\n      <td>Chihuahua Shorthair Mix</td>\n      <td>Cream</td>\n      <td>2018-03-17 14:59:00</td>\n      <td>2018-03-17T14:59:00.000</td>\n      <td>Austin (TX)</td>\n      <td>Normal</td>\n      <td>Owner Surrender</td>\n      <td>Kuzkoo</td>\n      <td>Neutered Male</td>\n    </tr>\n    <tr>\n      <th>80177</th>\n      <td>4 years</td>\n      <td>A701265</td>\n      <td>Dog</td>\n      <td>Pit Bull Mix</td>\n      <td>Blue/White</td>\n      <td>2018-03-29 17:45:00</td>\n      <td>2018-03-29T17:45:00.000</td>\n      <td>Travis (TX)</td>\n      <td>Normal</td>\n      <td>Stray</td>\n      <td>Blue</td>\n      <td>Neutered Male</td>\n    </tr>\n    <tr>\n      <th>80178</th>\n      <td>4 years</td>\n      <td>A722721</td>\n      <td>Cat</td>\n      <td>Domestic Shorthair Mix</td>\n      <td>Black</td>\n      <td>2018-03-29 17:54:00</td>\n      <td>2018-03-29T17:54:00.000</td>\n      <td>1601 Royal Crest Drive in Austin (TX)</td>\n      <td>Normal</td>\n      <td>Stray</td>\n      <td>NaN</td>\n      <td>Spayed Female</td>\n    </tr>\n    <tr>\n      <th>80179</th>\n      <td>2 years</td>\n      <td>A769046</td>\n      <td>Dog</td>\n      <td>Chihuahua Shorthair Mix</td>\n      <td>Brown Brindle</td>\n      <td>2018-03-29 13:24:00</td>\n      <td>2018-03-29T13:24:00.000</td>\n      <td>Austin (TX)</td>\n      <td>Sick</td>\n      <td>Owner Surrender</td>\n      <td>*Charm</td>\n      <td>Spayed Female</td>\n    </tr>\n  </tbody>\n</table>\n</div>"
     },
     "execution_count": 298,
     "metadata": {},
     "output_type": "execute_result"
    }
   ],
   "source": [
    "total_dogs = len(intake[intake['animal_type']=='Dog'])\n",
    "dogs_mean = total_dogs / len(intake)\n",
    "samples_per_lot = int(len(intake) / 20)\n",
    "lots = []\n",
    "x = 0\n",
    "y = samples_per_lot\n",
    "while len(lots) < 20:\n",
    "    lots.append(intake[x:y])\n",
    "    x = y\n",
    "    y += samples_per_lot\n",
    "lot01 = lots[0]\n",
    "lot02 = lots[1]\n",
    "lot03 = lots[2]\n",
    "lot04 = lots[3]\n",
    "lot05 = lots[4]\n",
    "lot06 = lots[5]\n",
    "lot07 = lots[6]\n",
    "lot08 = lots[7]\n",
    "lot09 = lots[8]\n",
    "lot10 = lots[9]\n",
    "lot11 = lots[10]\n",
    "lot12 = lots[11]\n",
    "lot13 = lots[12]\n",
    "lot14 = lots[13]\n",
    "lot15 = lots[14]\n",
    "lot16 = lots[15]\n",
    "lot17 = lots[16]\n",
    "lot18 = lots[17]\n",
    "lot19 = lots[18]\n",
    "lot20 = lots[19]\n"
   ],
   "metadata": {
    "collapsed": false,
    "pycharm": {
     "name": "#%%\n"
    }
   }
  },
  {
   "cell_type": "code",
   "execution_count": 304,
   "outputs": [
    {
     "data": {
      "text/plain": "[0.5709653280119731,\n 0.5712147667747568,\n 0.5582439511100025,\n 0.5727113993514592,\n 0.5652282364679471,\n 0.5649787977051633,\n 0.568221501621352,\n 0.55874282863557,\n 0.595659765527563,\n 0.5689698179097031,\n 0.5632327263656772,\n 0.5617360937889748,\n 0.5744574706909453,\n 0.5654776752307309,\n 0.5769518583187827,\n 0.5637316038912447,\n 0.586181092541781,\n 0.5627338488401098,\n 0.5754552257420803,\n 0.5839361436767274]"
     },
     "execution_count": 304,
     "metadata": {},
     "output_type": "execute_result"
    }
   ],
   "source": [
    "dogs_lot01_mean = len(lot01[lot01['animal_type']=='Dog']) / len(lot01)\n",
    "dogs_lot02_mean = len(lot02[lot02['animal_type']=='Dog']) / len(lot02)\n",
    "dogs_lot03_mean = len(lot03[lot03['animal_type']=='Dog']) / len(lot03)\n",
    "dogs_lot04_mean = len(lot04[lot04['animal_type']=='Dog']) / len(lot04)\n",
    "dogs_lot05_mean = len(lot05[lot05['animal_type']=='Dog']) / len(lot05)\n",
    "dogs_lot06_mean = len(lot06[lot06['animal_type']=='Dog']) / len(lot06)\n",
    "dogs_lot07_mean = len(lot07[lot07['animal_type']=='Dog']) / len(lot07)\n",
    "dogs_lot08_mean = len(lot08[lot08['animal_type']=='Dog']) / len(lot08)\n",
    "dogs_lot09_mean = len(lot09[lot09['animal_type']=='Dog']) / len(lot09)\n",
    "dogs_lot10_mean = len(lot10[lot10['animal_type']=='Dog']) / len(lot10)\n",
    "dogs_lot11_mean = len(lot11[lot11['animal_type']=='Dog']) / len(lot11)\n",
    "dogs_lot12_mean = len(lot12[lot12['animal_type']=='Dog']) / len(lot12)\n",
    "dogs_lot13_mean = len(lot13[lot13['animal_type']=='Dog']) / len(lot13)\n",
    "dogs_lot14_mean = len(lot14[lot14['animal_type']=='Dog']) / len(lot14)\n",
    "dogs_lot15_mean = len(lot15[lot15['animal_type']=='Dog']) / len(lot15)\n",
    "dogs_lot16_mean = len(lot16[lot16['animal_type']=='Dog']) / len(lot16)\n",
    "dogs_lot17_mean = len(lot17[lot17['animal_type']=='Dog']) / len(lot17)\n",
    "dogs_lot18_mean = len(lot18[lot18['animal_type']=='Dog']) / len(lot18)\n",
    "dogs_lot19_mean = len(lot19[lot19['animal_type']=='Dog']) / len(lot19)\n",
    "dogs_lot20_mean = len(lot20[lot20['animal_type']=='Dog']) / len(lot20)\n",
    "dogs_lots_means = [dogs_lot01_mean, dogs_lot02_mean, dogs_lot03_mean, dogs_lot04_mean, dogs_lot05_mean, dogs_lot06_mean,\n",
    "                   dogs_lot07_mean, dogs_lot08_mean, dogs_lot09_mean, dogs_lot10_mean, dogs_lot11_mean, dogs_lot12_mean,\n",
    "                   dogs_lot13_mean, dogs_lot14_mean, dogs_lot15_mean, dogs_lot16_mean, dogs_lot17_mean, dogs_lot18_mean,\n",
    "                   dogs_lot19_mean, dogs_lot20_mean]"
   ],
   "metadata": {
    "collapsed": false,
    "pycharm": {
     "name": "#%%\n"
    }
   }
  },
  {
   "cell_type": "code",
   "execution_count": 316,
   "outputs": [
    {
     "data": {
      "text/plain": "0.009386299886242162"
     },
     "execution_count": 316,
     "metadata": {},
     "output_type": "execute_result"
    }
   ],
   "source": [
    "ponderation = 1/20\n",
    "var_list = []\n",
    "for pm in dogs_lots_means:\n",
    "    delta = (pm - dogs_mean)**2\n",
    "    var_list.append(delta)\n",
    "var_array = np.sum(var_list)*ponderation\n",
    "standard_deviation = np.sqrt(var_array)"
   ],
   "metadata": {
    "collapsed": false,
    "pycharm": {
     "name": "#%%\n"
    }
   }
  },
  {
   "cell_type": "code",
   "execution_count": 317,
   "outputs": [
    {
     "data": {
      "text/plain": "(array([1.5000e+01, 3.2200e+02, 3.4820e+03, 1.4819e+04, 2.8198e+04,\n        2.3263e+04, 8.6650e+03, 1.3290e+03, 9.1000e+01, 3.0000e+00]),\n array([0.52841909, 0.53722094, 0.5460228 , 0.55482465, 0.5636265 ,\n        0.57242835, 0.58123021, 0.59003206, 0.59883391, 0.60763576,\n        0.61643762]),\n <BarContainer object of 10 artists>)"
     },
     "execution_count": 317,
     "metadata": {},
     "output_type": "execute_result"
    },
    {
     "data": {
      "text/plain": "<Figure size 640x480 with 1 Axes>",
      "image/png": "[encoded data removed]"
     },
     "metadata": {},
     "output_type": "display_data"
    }
   ],
   "source": [
    "arrdog = np.random.normal(loc=dogs_mean, scale=standard_deviation, size=(len(intake)))\n",
    "plt.hist(arrdog)"
   ],
   "metadata": {
    "collapsed": false,
    "pycharm": {
     "name": "#%%\n"
    }
   }
  },
  {
   "cell_type": "markdown",
   "source": [
    "CAT'S DISTRIBUTION"
   ],
   "metadata": {
    "collapsed": false,
    "pycharm": {
     "name": "#%% md\n"
    }
   }
  },
  {
   "cell_type": "code",
   "execution_count": 318,
   "outputs": [
    {
     "data": {
      "text/plain": "0.36987292204472044"
     },
     "execution_count": 318,
     "metadata": {},
     "output_type": "execute_result"
    }
   ],
   "source": [
    "total_cats = len(intake[intake['animal_type']=='Cat'])\n",
    "cat_mean = total_cats / len(intake)"
   ],
   "metadata": {
    "collapsed": false,
    "pycharm": {
     "name": "#%%\n"
    }
   }
  },
  {
   "cell_type": "code",
   "execution_count": 319,
   "outputs": [
    {
     "data": {
      "text/plain": "[0.36717385881766024,\n 0.372162634073335,\n 0.37665253180344227,\n 0.3696682464454976,\n 0.3744075829383886,\n 0.3714143177849838,\n 0.3751558992267398,\n 0.38463457221252184,\n 0.3497131454227987,\n 0.3676727363432277,\n 0.3791469194312796,\n 0.3788974806684959,\n 0.3711648790222,\n 0.3726615115989025,\n 0.3611873285108506,\n 0.3719131953105513,\n 0.35819406335744575,\n 0.37789972561736096,\n 0.36642554252930903,\n 0.35195809428785235]"
     },
     "execution_count": 319,
     "metadata": {},
     "output_type": "execute_result"
    }
   ],
   "source": [
    "cats_lot01_mean = len(lot01[lot01['animal_type']=='Cat']) / len(lot01)\n",
    "cats_lot02_mean = len(lot02[lot02['animal_type']=='Cat']) / len(lot02)\n",
    "cats_lot03_mean = len(lot03[lot03['animal_type']=='Cat']) / len(lot03)\n",
    "cats_lot04_mean = len(lot04[lot04['animal_type']=='Cat']) / len(lot04)\n",
    "cats_lot05_mean = len(lot05[lot05['animal_type']=='Cat']) / len(lot05)\n",
    "cats_lot06_mean = len(lot06[lot06['animal_type']=='Cat']) / len(lot06)\n",
    "cats_lot07_mean = len(lot07[lot07['animal_type']=='Cat']) / len(lot07)\n",
    "cats_lot08_mean = len(lot08[lot08['animal_type']=='Cat']) / len(lot08)\n",
    "cats_lot09_mean = len(lot09[lot09['animal_type']=='Cat']) / len(lot09)\n",
    "cats_lot10_mean = len(lot10[lot10['animal_type']=='Cat']) / len(lot10)\n",
    "cats_lot11_mean = len(lot11[lot11['animal_type']=='Cat']) / len(lot11)\n",
    "cats_lot12_mean = len(lot12[lot12['animal_type']=='Cat']) / len(lot12)\n",
    "cats_lot13_mean = len(lot13[lot13['animal_type']=='Cat']) / len(lot13)\n",
    "cats_lot14_mean = len(lot14[lot14['animal_type']=='Cat']) / len(lot14)\n",
    "cats_lot15_mean = len(lot15[lot15['animal_type']=='Cat']) / len(lot15)\n",
    "cats_lot16_mean = len(lot16[lot16['animal_type']=='Cat']) / len(lot16)\n",
    "cats_lot17_mean = len(lot17[lot17['animal_type']=='Cat']) / len(lot17)\n",
    "cats_lot18_mean = len(lot18[lot18['animal_type']=='Cat']) / len(lot18)\n",
    "cats_lot19_mean = len(lot19[lot19['animal_type']=='Cat']) / len(lot19)\n",
    "cats_lot20_mean = len(lot20[lot20['animal_type']=='Cat']) / len(lot20)\n",
    "cats_lots_means = [cats_lot01_mean, cats_lot02_mean, cats_lot03_mean, cats_lot04_mean, cats_lot05_mean, cats_lot06_mean,\n",
    "                   cats_lot07_mean, cats_lot08_mean, cats_lot09_mean, cats_lot10_mean, cats_lot11_mean, cats_lot12_mean,\n",
    "                   cats_lot13_mean, cats_lot14_mean, cats_lot15_mean, cats_lot16_mean, cats_lot17_mean, cats_lot18_mean,\n",
    "                   cats_lot19_mean, cats_lot20_mean]"
   ],
   "metadata": {
    "collapsed": false,
    "pycharm": {
     "name": "#%%\n"
    }
   }
  },
  {
   "cell_type": "code",
   "execution_count": 321,
   "outputs": [
    {
     "data": {
      "text/plain": "0.009386299886242162"
     },
     "execution_count": 321,
     "metadata": {},
     "output_type": "execute_result"
    }
   ],
   "source": [
    "var_list_cats = []\n",
    "for pm in cats_lots_means:\n",
    "    delta = (pm - cat_mean)**2\n",
    "    var_list_cats.append(delta)\n",
    "var_array_cats = np.sum(var_list_cats)*ponderation\n",
    "standard_deviation_cats = np.sqrt(var_array)\n",
    "standard_deviation_cats"
   ],
   "metadata": {
    "collapsed": false,
    "pycharm": {
     "name": "#%%\n"
    }
   }
  },
  {
   "cell_type": "code",
   "execution_count": 322,
   "outputs": [
    {
     "data": {
      "text/plain": "(array([1.9000e+01, 5.4300e+02, 4.6360e+03, 1.8030e+04, 2.9155e+04,\n        2.0739e+04, 6.1900e+03, 8.1800e+02, 5.5000e+01, 2.0000e+00]),\n array([0.32881927, 0.33776799, 0.34671672, 0.35566544, 0.36461416,\n        0.37356288, 0.38251161, 0.39146033, 0.40040905, 0.40935777,\n        0.4183065 ]),\n <BarContainer object of 10 artists>)"
     },
     "execution_count": 322,
     "metadata": {},
     "output_type": "execute_result"
    },
    {
     "data": {
      "text/plain": "<Figure size 640x480 with 1 Axes>",
      "image/png": "[encoded data removed]"
     },
     "metadata": {},
     "output_type": "display_data"
    }
   ],
   "source": [
    "arrcat = np.random.normal(loc=cat_mean, scale=standard_deviation_cats, size=(len(intake)))\n",
    "plt.hist(arrcat)"
   ],
   "metadata": {
    "collapsed": false,
    "pycharm": {
     "name": "#%%\n"
    }
   }
  },
  {
   "cell_type": "markdown",
   "source": [
    "BIRD'S DISTRIBUTION"
   ],
   "metadata": {
    "collapsed": false,
    "pycharm": {
     "name": "#%% md\n"
    }
   }
  }
 ],
 "metadata": {
  "kernelspec": {
   "display_name": "Python 3",
   "language": "python",
   "name": "python3"
  },
  "language_info": {
   "codemirror_mode": {
    "name": "ipython",
    "version": 2
   },
   "file_extension": ".py",
   "mimetype": "text/x-python",
   "name": "python",
   "nbconvert_exporter": "python",
   "pygments_lexer": "ipython2",
   "version": "2.7.6"
  }
 },
 "nbformat": 4,
 "nbformat_minor": 0
}