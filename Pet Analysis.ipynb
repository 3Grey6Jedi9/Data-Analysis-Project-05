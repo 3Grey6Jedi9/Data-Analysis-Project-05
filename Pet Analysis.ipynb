{
 "cells": [
  {
   "cell_type": "code",
   "execution_count": 3,
   "metadata": {
    "collapsed": true,
    "pycharm": {
     "name": "#%%\n"
    }
   },
   "outputs": [],
   "source": [
    "import pandas as pd\n",
    "import numpy as np\n",
    "import datetime\n",
    "import matplotlib.pyplot as plt\n",
    "\n",
    "intake = pd.read_csv('aac_intakes.csv')\n",
    "intakes_outcomes = pd.read_csv('aac_intakes_outcomes.csv')\n",
    "outcomes = pd.read_csv('aac_outcomes.csv')"
   ]
  },
  {
   "cell_type": "markdown",
   "source": [
    "1) Is there an area where more pets are found?"
   ],
   "metadata": {
    "collapsed": false,
    "pycharm": {
     "name": "#%% md\n"
    }
   }
  },
  {
   "cell_type": "code",
   "execution_count": 6,
   "outputs": [
    {
     "data": {
      "text/plain": "found_location\nAustin (TX)                          14443\nOutside Jurisdiction                   948\nTravis (TX)                            921\n7201 Levander Loop in Austin (TX)      517\nDel Valle (TX)                         411\ndtype: int64"
     },
     "execution_count": 6,
     "metadata": {},
     "output_type": "execute_result"
    }
   ],
   "source": [
    "intake.value_counts('found_location').head(5)"
   ],
   "metadata": {
    "collapsed": false,
    "pycharm": {
     "name": "#%%\n"
    }
   }
  },
  {
   "cell_type": "markdown",
   "source": [],
   "metadata": {
    "collapsed": false,
    "pycharm": {
     "name": "#%% md\n"
    }
   }
  },
  {
   "cell_type": "markdown",
   "source": [
    "QUESTION 02: What is the average number of pets found in a month in the year 2015? Are there months where there is a higher number of animals found?"
   ],
   "metadata": {
    "collapsed": false,
    "pycharm": {
     "name": "#%% md\n"
    }
   }
  },
  {
   "cell_type": "code",
   "execution_count": 7,
   "outputs": [],
   "source": [
    "intake['datetime'] = pd.to_datetime(intake['datetime'])"
   ],
   "metadata": {
    "collapsed": false,
    "pycharm": {
     "name": "#%%\n"
    }
   }
  },
  {
   "cell_type": "code",
   "execution_count": 17,
   "outputs": [
    {
     "data": {
      "text/plain": "1559"
     },
     "execution_count": 17,
     "metadata": {},
     "output_type": "execute_result"
    }
   ],
   "source": [
    "intake_15 = intake[(intake['datetime'] >= datetime.datetime(2015,1,1)) & (intake['datetime'] < datetime.datetime(2016,1,1))]\n",
    "number_pets_month = (len(intake_15) / 12).__round__()\n",
    "number_pets_month"
   ],
   "metadata": {
    "collapsed": false,
    "pycharm": {
     "name": "#%%\n"
    }
   }
  },
  {
   "cell_type": "code",
   "execution_count": 16,
   "outputs": [
    {
     "data": {
      "text/plain": "      age_upon_intake animal_id animal_type                      breed  \\\n0             8 years   A706918         Dog   English Springer Spaniel   \n5             2 years   A708452         Dog     Labrador Retriever Mix   \n8            5 months   A707375         Dog                   Pit Bull   \n9             2 years   A696408         Dog        Chihuahua Shorthair   \n12            4 weeks   A707658         Cat     Domestic Shorthair Mix   \n...               ...       ...         ...                        ...   \n79451         3 weeks   A710038         Cat     Domestic Shorthair Mix   \n79572          1 year   A705821         Dog                  Blue Lacy   \n79766         6 years   A716252         Dog     Labrador Retriever Mix   \n79951         1 month   A705614         Cat      Domestic Longhair Mix   \n79952        4 months   A699742         Dog  Beagle/Labrador Retriever   \n\n             color            datetime                datetime2  \\\n0      White/Liver 2015-07-05 12:59:00  2015-07-05T12:59:00.000   \n5      Black/White 2015-07-30 14:37:00  2015-07-30T14:37:00.000   \n8      Brown/White 2015-07-11 18:19:00  2015-07-11T18:19:00.000   \n9         Tricolor 2015-02-04 12:58:00  2015-02-04T12:58:00.000   \n12     Black/White 2015-07-15 17:43:00  2015-07-15T17:43:00.000   \n...            ...                 ...                      ...   \n79451  Black/White 2015-08-16 12:37:00  2015-08-16T12:37:00.000   \n79572    Brown/Tan 2015-06-21 17:00:00  2015-06-21T17:00:00.000   \n79766        Black 2015-11-17 13:14:00  2015-11-17T13:14:00.000   \n79951   Blue Tabby 2015-06-19 16:31:00  2015-06-19T16:31:00.000   \n79952    Red/White 2015-04-01 17:39:00  2015-04-01T17:39:00.000   \n\n                                     found_location intake_condition  \\\n0                  9409 Bluegrass Dr in Austin (TX)           Normal   \n5                                       Austin (TX)           Normal   \n8      Galilee Court And Damita Jo Dr in Manor (TX)           Normal   \n9                       9705 Thaxton in Austin (TX)           Normal   \n12                      6118 Fairway in Austin (TX)           Normal   \n...                                             ...              ...   \n79451       E Mlk Blvd And Elmira Rd in Austin (TX)           Normal   \n79572     W 45Th St And Guadalupe St in Austin (TX)           Normal   \n79766                  10325 1625 Rd in Travis (TX)           Normal   \n79951                8023 Coulver Rd in Austin (TX)           Normal   \n79952            Grove And Riverside in Austin (TX)           Normal   \n\n         intake_type         name sex_upon_intake  \n0              Stray        Belle   Spayed Female  \n5      Public Assist       Mumble     Intact Male  \n8              Stray  *Candy Cane   Intact Female  \n9              Stray       *Pearl   Intact Female  \n12             Stray        *Mint   Intact Female  \n...              ...          ...             ...  \n79451          Stray          NaN   Intact Female  \n79572          Stray         Theo     Intact Male  \n79766          Stray       Karmen   Intact Female  \n79951          Stray         Blue     Intact Male  \n79952          Stray          Jax     Intact Male  \n\n[18712 rows x 12 columns]",
      "text/html": "<div>\n<style scoped>\n    .dataframe tbody tr th:only-of-type {\n        vertical-align: middle;\n    }\n\n    .dataframe tbody tr th {\n        vertical-align: top;\n    }\n\n    .dataframe thead th {\n        text-align: right;\n    }\n</style>\n<table border=\"1\" class=\"dataframe\">\n  <thead>\n    <tr style=\"text-align: right;\">\n      <th></th>\n      <th>age_upon_intake</th>\n      <th>animal_id</th>\n      <th>animal_type</th>\n      <th>breed</th>\n      <th>color</th>\n      <th>datetime</th>\n      <th>datetime2</th>\n      <th>found_location</th>\n      <th>intake_condition</th>\n      <th>intake_type</th>\n      <th>name</th>\n      <th>sex_upon_intake</th>\n    </tr>\n  </thead>\n  <tbody>\n    <tr>\n      <th>0</th>\n      <td>8 years</td>\n      <td>A706918</td>\n      <td>Dog</td>\n      <td>English Springer Spaniel</td>\n      <td>White/Liver</td>\n      <td>2015-07-05 12:59:00</td>\n      <td>2015-07-05T12:59:00.000</td>\n      <td>9409 Bluegrass Dr in Austin (TX)</td>\n      <td>Normal</td>\n      <td>Stray</td>\n      <td>Belle</td>\n      <td>Spayed Female</td>\n    </tr>\n    <tr>\n      <th>5</th>\n      <td>2 years</td>\n      <td>A708452</td>\n      <td>Dog</td>\n      <td>Labrador Retriever Mix</td>\n      <td>Black/White</td>\n      <td>2015-07-30 14:37:00</td>\n      <td>2015-07-30T14:37:00.000</td>\n      <td>Austin (TX)</td>\n      <td>Normal</td>\n      <td>Public Assist</td>\n      <td>Mumble</td>\n      <td>Intact Male</td>\n    </tr>\n    <tr>\n      <th>8</th>\n      <td>5 months</td>\n      <td>A707375</td>\n      <td>Dog</td>\n      <td>Pit Bull</td>\n      <td>Brown/White</td>\n      <td>2015-07-11 18:19:00</td>\n      <td>2015-07-11T18:19:00.000</td>\n      <td>Galilee Court And Damita Jo Dr in Manor (TX)</td>\n      <td>Normal</td>\n      <td>Stray</td>\n      <td>*Candy Cane</td>\n      <td>Intact Female</td>\n    </tr>\n    <tr>\n      <th>9</th>\n      <td>2 years</td>\n      <td>A696408</td>\n      <td>Dog</td>\n      <td>Chihuahua Shorthair</td>\n      <td>Tricolor</td>\n      <td>2015-02-04 12:58:00</td>\n      <td>2015-02-04T12:58:00.000</td>\n      <td>9705 Thaxton in Austin (TX)</td>\n      <td>Normal</td>\n      <td>Stray</td>\n      <td>*Pearl</td>\n      <td>Intact Female</td>\n    </tr>\n    <tr>\n      <th>12</th>\n      <td>4 weeks</td>\n      <td>A707658</td>\n      <td>Cat</td>\n      <td>Domestic Shorthair Mix</td>\n      <td>Black/White</td>\n      <td>2015-07-15 17:43:00</td>\n      <td>2015-07-15T17:43:00.000</td>\n      <td>6118 Fairway in Austin (TX)</td>\n      <td>Normal</td>\n      <td>Stray</td>\n      <td>*Mint</td>\n      <td>Intact Female</td>\n    </tr>\n    <tr>\n      <th>...</th>\n      <td>...</td>\n      <td>...</td>\n      <td>...</td>\n      <td>...</td>\n      <td>...</td>\n      <td>...</td>\n      <td>...</td>\n      <td>...</td>\n      <td>...</td>\n      <td>...</td>\n      <td>...</td>\n      <td>...</td>\n    </tr>\n    <tr>\n      <th>79451</th>\n      <td>3 weeks</td>\n      <td>A710038</td>\n      <td>Cat</td>\n      <td>Domestic Shorthair Mix</td>\n      <td>Black/White</td>\n      <td>2015-08-16 12:37:00</td>\n      <td>2015-08-16T12:37:00.000</td>\n      <td>E Mlk Blvd And Elmira Rd in Austin (TX)</td>\n      <td>Normal</td>\n      <td>Stray</td>\n      <td>NaN</td>\n      <td>Intact Female</td>\n    </tr>\n    <tr>\n      <th>79572</th>\n      <td>1 year</td>\n      <td>A705821</td>\n      <td>Dog</td>\n      <td>Blue Lacy</td>\n      <td>Brown/Tan</td>\n      <td>2015-06-21 17:00:00</td>\n      <td>2015-06-21T17:00:00.000</td>\n      <td>W 45Th St And Guadalupe St in Austin (TX)</td>\n      <td>Normal</td>\n      <td>Stray</td>\n      <td>Theo</td>\n      <td>Intact Male</td>\n    </tr>\n    <tr>\n      <th>79766</th>\n      <td>6 years</td>\n      <td>A716252</td>\n      <td>Dog</td>\n      <td>Labrador Retriever Mix</td>\n      <td>Black</td>\n      <td>2015-11-17 13:14:00</td>\n      <td>2015-11-17T13:14:00.000</td>\n      <td>10325 1625 Rd in Travis (TX)</td>\n      <td>Normal</td>\n      <td>Stray</td>\n      <td>Karmen</td>\n      <td>Intact Female</td>\n    </tr>\n    <tr>\n      <th>79951</th>\n      <td>1 month</td>\n      <td>A705614</td>\n      <td>Cat</td>\n      <td>Domestic Longhair Mix</td>\n      <td>Blue Tabby</td>\n      <td>2015-06-19 16:31:00</td>\n      <td>2015-06-19T16:31:00.000</td>\n      <td>8023 Coulver Rd in Austin (TX)</td>\n      <td>Normal</td>\n      <td>Stray</td>\n      <td>Blue</td>\n      <td>Intact Male</td>\n    </tr>\n    <tr>\n      <th>79952</th>\n      <td>4 months</td>\n      <td>A699742</td>\n      <td>Dog</td>\n      <td>Beagle/Labrador Retriever</td>\n      <td>Red/White</td>\n      <td>2015-04-01 17:39:00</td>\n      <td>2015-04-01T17:39:00.000</td>\n      <td>Grove And Riverside in Austin (TX)</td>\n      <td>Normal</td>\n      <td>Stray</td>\n      <td>Jax</td>\n      <td>Intact Male</td>\n    </tr>\n  </tbody>\n</table>\n<p>18712 rows × 12 columns</p>\n</div>"
     },
     "execution_count": 16,
     "metadata": {},
     "output_type": "execute_result"
    }
   ],
   "source": [
    "intake_15"
   ],
   "metadata": {
    "collapsed": false,
    "pycharm": {
     "name": "#%%\n"
    }
   }
  },
  {
   "cell_type": "code",
   "execution_count": 18,
   "outputs": [
    {
     "data": {
      "text/plain": "{'February': 2317,\n 'March': 3663,\n 'April': 5206,\n 'May': 7300,\n 'June': 9489,\n 'July': 11124,\n 'August': 12842,\n 'September': 14433,\n 'October': 16173,\n 'November': 17584}"
     },
     "execution_count": 18,
     "metadata": {},
     "output_type": "execute_result"
    }
   ],
   "source": [
    "intake_january = intake_15[intake_15['datetime'] <= datetime.datetime(2015,2,1)]\n",
    "intake_february = intake_15[intake_15['datetime'] < datetime.datetime(2015,3,1)]\n",
    "intake_march = intake_15[intake_15['datetime'] < datetime.datetime(2015,4,1)]\n",
    "intake_april = intake_15[intake_15['datetime'] < datetime.datetime(2015,5,1)]\n",
    "intake_may = intake_15[intake_15['datetime'] < datetime.datetime(2015,6,1)]\n",
    "intake_june = intake_15[intake_15['datetime'] < datetime.datetime(2015,7,1)]\n",
    "intake_july = intake_15[intake_15['datetime'] < datetime.datetime(2015,8,1)]\n",
    "intake_august = intake_15[intake_15['datetime'] < datetime.datetime(2015,9,1)]\n",
    "intake_september = intake_15[intake_15['datetime'] < datetime.datetime(2015,10,1)]\n",
    "intake_october = intake_15[intake_15['datetime'] < datetime.datetime(2015,11,1)]\n",
    "intake_november = intake_15[intake_15['datetime'] < datetime.datetime(2015,12,1)]\n",
    "intake_december = intake_15[intake_15['datetime'] > datetime.datetime(2015,12,1)]\n",
    "lanimals_month = [len(intake_january),len(intake_february), len(intake_march), len(intake_april), len(intake_may),\n",
    "                  len(intake_june), len(intake_july), len(intake_august), len(intake_september),\n",
    "                  len(intake_october), len(intake_november), len(intake_december)]\n",
    "kaniamls_month = {'January': lanimals_month[0], 'February': lanimals_month[1], 'March': lanimals_month[2],\n",
    "                  'April': lanimals_month[3], 'May': lanimals_month[4], 'June': lanimals_month[5],\n",
    "                  'July': lanimals_month[6], 'August': lanimals_month[7], 'September': lanimals_month[8],\n",
    "                  'October':lanimals_month[9], 'November': lanimals_month[10], 'December':lanimals_month[11]}\n",
    "higher_months = {}\n",
    "for k, v in kaniamls_month.items():\n",
    "    if v > number_pets_month:\n",
    "        higher_months[k] = v\n",
    "    else:\n",
    "        continue\n",
    "higher_months"
   ],
   "metadata": {
    "collapsed": false,
    "pycharm": {
     "name": "#%%\n"
    }
   }
  }
 ],
 "metadata": {
  "kernelspec": {
   "display_name": "Python 3",
   "language": "python",
   "name": "python3"
  },
  "language_info": {
   "codemirror_mode": {
    "name": "ipython",
    "version": 2
   },
   "file_extension": ".py",
   "mimetype": "text/x-python",
   "name": "python",
   "nbconvert_exporter": "python",
   "pygments_lexer": "ipython2",
   "version": "2.7.6"
  }
 },
 "nbformat": 4,
 "nbformat_minor": 0
}